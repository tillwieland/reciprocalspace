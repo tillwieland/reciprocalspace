{
 "cells": [
  {
   "cell_type": "code",
   "execution_count": 1,
   "metadata": {},
   "outputs": [],
   "source": [
    "%matplotlib qt\n",
    "from tqdm import tqdm_notebook #########!!!!!!!!!!!!!!!!!\n",
    "from __future__ import print_function, division\n",
    "\n",
    "import numpy as np\n",
    "\n",
    "from mpl_toolkits.mplot3d import Axes3D  # needed for 3d-plots\n",
    "import matplotlib.pyplot as plt\n",
    "\n",
    "from scipy.optimize import brute, fminbound, minimize_scalar\n",
    "# brute force minimizing\n",
    "from itertools import combinations\n",
    "from ipywidgets import interact, interactive, VBox, fixed, interact_manual, IntSlider\n",
    "#from numba import njit\n",
    "from sklearn.neighbors import KDTree\n",
    "from matplotlib.ticker import MultipleLocator, FormatStrFormatter\n",
    "\n",
    "\n",
    "\n",
    "\n",
    "def distances(coord):\n",
    "    '''\n",
    "    calculate all appearing distances in an array of coordinates\n",
    "    '''\n",
    "    n = coord.shape[0]\n",
    "    result = []\n",
    "    for i in range(n):\n",
    "        for j in range(i):\n",
    "            result.append(np.linalg.norm((coord[i] - coord[j])))\n",
    "    return np.array(result)\n",
    "\n",
    "\n",
    "def dist_pnt(coord, point):\n",
    "    '''\n",
    "    calculate all distances of an array of coordinates to a single point\n",
    "    '''\n",
    "    return np.sqrt((coord[:, 0]-point[0])**2 +\n",
    "                   (coord[:, 1]-point[1])**2 +\n",
    "                   (coord[:, 2]-point[2])**2)\n",
    "\n",
    "\n",
    "def first_val(hist, bin_edges, bound):\n",
    "    '''\n",
    "    get the first distance value that appears more often then given in \"bounds\"\n",
    "\n",
    "    as input you can use the output of numpy.histogram\n",
    "    '''\n",
    "    return bin_edges[:-1][hist > bound][0]\n",
    "\n",
    "\n",
    "def ang_to_norm(phi, psi):\n",
    "    '''\n",
    "    get a normal-vector for the hessian-normal form of a plane given by two\n",
    "    angles (phi - angle to positive z-axes, psi - angle to positive x-axes)\n",
    "    '''\n",
    "    return np.array([np.sin(phi)*np.cos(psi),\n",
    "                     np.sin(phi)*np.sin(psi),\n",
    "                     np.cos(phi)])\n",
    "\n",
    "\n",
    "def dist_to_plane(points, phi, psi, dzero):\n",
    "    '''\n",
    "    calculate the distance of a point to a plane, where the plane is given by\n",
    "    phi, psi, and dzero (distance to the origin)\n",
    "    '''\n",
    "    points = np.array(points, ndmin=2)\n",
    "    norm = ang_to_norm(phi, psi)\n",
    "    result = np.empty(points.shape[0])\n",
    "\n",
    "#    for i in range(points.shape[0]):\n",
    "#        result[i] = abs(np.dot(norm, points[i]) - dzero) !!!!!!!!!!!!!!!!!!!!!!!!!!!!!!!!!!!!!!!\n",
    "\n",
    "    result = np.abs(norm[0]*points[:, 0] +\n",
    "                    norm[1]*points[:, 1] +\n",
    "                    norm[2]*points[:, 2] - dzero)\n",
    "    return result\n",
    "\n",
    "\n",
    "def dist_to_plane_sgn(points, phi, psi, dzero):\n",
    "    '''\n",
    "    calculate the distance of a point to a plane, where the plane is given by\n",
    "    phi, psi, and dzero (distance to the origin) (with sign)\n",
    "    '''\n",
    "    points = np.array(points, ndmin=2)\n",
    "    norm = ang_to_norm(phi, psi)\n",
    "    result = np.empty(points.shape[0])\n",
    "\n",
    "#    for i in range(points.shape[0]):\n",
    "#        result[i] = abs(np.dot(norm, points[i]) - dzero)\n",
    "\n",
    "    result = (norm[0]*points[:, 0] +\n",
    "              norm[1]*points[:, 1] +\n",
    "              norm[2]*points[:, 2] - dzero)\n",
    "    return result\n",
    "\n",
    "\n",
    "def dist_to_line(points, norm, vec):\n",
    "    '''\n",
    "    distance of points to a given line by x = t*n + v where n is a normal-vec\n",
    "\n",
    "    returns : distances and the parameter t of each nearest point\n",
    "\n",
    "    optimal t is given by: t_min = norm*(point - vec)\n",
    "    '''\n",
    "    para = (norm[0]*(points[:, 0] - vec[0]) +\n",
    "            norm[1]*(points[:, 1] - vec[1]) +\n",
    "            norm[2]*(points[:, 2] - vec[2]))\n",
    "\n",
    "    result = np.sqrt((points[:, 0] - norm[0]*para - vec[0])**2 +\n",
    "                     (points[:, 1] - norm[1]*para - vec[1])**2 +\n",
    "                     (points[:, 2] - norm[2]*para - vec[2])**2)\n",
    "\n",
    "    return result, para\n",
    "\n",
    "\n",
    "def rescale_basis_vec(points, norm, vec, eps=None):\n",
    "    '''\n",
    "    return the points on the line within an eps-surrounding\n",
    "    '''\n",
    "    if eps is None:\n",
    "        dist_coord = distances(points)\n",
    "        # use the histogram to find the minimum distance between the points\n",
    "        min_dist = first_val(*np.histogram(dist_coord, bins=points.shape[0]))\n",
    "        # set the epsilon for checking if point in plane\n",
    "        eps = min_dist/10\n",
    "\n",
    "    dists, paras = dist_to_line(points, norm, vec)\n",
    "    # select the t-parameters of the nearest points on line\n",
    "    paras = paras[dists < eps]\n",
    "    paras = np.sort(paras)\n",
    "    # the consecutive distances of the params\n",
    "    cons_dist = paras[1:]-paras[:-1]\n",
    "\n",
    "#    print(\"consecutive distances\", cons_dist)\n",
    "\n",
    "    return np.mean(cons_dist)\n",
    "\n",
    "\n",
    "def no_of_points(in_arg, points, eps, blist=None, angl=np.pi/3.0):\n",
    "    '''\n",
    "    get the number of points whose distance to the given plane is less than eps\n",
    "\n",
    "    you can \"blacklist\" certain angles for psi and phi in blist\n",
    "    with \"angl\" you can specify the angle around the blacklisted angles\n",
    "    (stnd value: 45°)\n",
    "\n",
    "    if an angle-combination is blacklisted, 0 is returned\n",
    "    '''\n",
    "    if blist is None:\n",
    "        blist = []\n",
    "\n",
    "    phi, psi, dzero = in_arg\n",
    "\n",
    "    # iterate over blacklisted angles\n",
    "    for bphi, bpsi in blist:\n",
    "        if (bphi-angl < phi < bphi+angl) and (bpsi-angl < psi < bpsi+angl):\n",
    "            return 0\n",
    "\n",
    "    dist = dist_to_plane(points, phi, psi, dzero)\n",
    "    # result is negative so the minimizer is working as a maximizer\n",
    "    return -len(dist[dist < eps])\n",
    "\n",
    "\n",
    "def center_unit(points):\n",
    "    '''\n",
    "    center and scale a list of points to unitcube and give the shift and\n",
    "    scaling\n",
    "\n",
    "    shifting is realized by the average position\n",
    "\n",
    "    return : newpoints, scale, shift\n",
    "    '''\n",
    "    coord = points.copy()\n",
    "    shift = np.mean(coord, axis=0)\n",
    "    for i in range(3):\n",
    "        coord[:, i] -= shift[i]\n",
    "    scale = np.max(np.abs(coord), axis=0)\n",
    "    for i in range(3):\n",
    "        coord[:, i] /= scale[i]\n",
    "\n",
    "    return coord, scale, shift\n",
    "\n",
    "\n",
    "def affin_hessian(norm, dist, matrix, vec=np.array([0., 0., 0.])):\n",
    "    '''\n",
    "    transformation of a plane given in hessian normal form (n*x=d) under a\n",
    "    affine transformation: y = T(x) = M*x + v\n",
    "    '''\n",
    "    # inverse matrix of the transformation\n",
    "    inv_mat = np.linalg.inv(matrix)\n",
    "    # the new normal-vector n_new = n*M^-1\n",
    "    new_norm = np.squeeze(np.dot(np.array(norm, ndmin=2), inv_mat))\n",
    "    abs_norm = np.linalg.norm(new_norm)\n",
    "    new_norm = new_norm/abs_norm\n",
    "\n",
    "    new_dist = dist/abs_norm + np.dot(new_norm, vec)\n",
    "\n",
    "    return new_norm, new_dist\n",
    "\n",
    "\n",
    "def estimate_planes(points, iterations=4,\n",
    "                    error_angle=np.pi/3.0,\n",
    "                    grid_angle=np.pi/90):\n",
    "    '''\n",
    "    performe estimations to lay planes in a cloud of points\n",
    "\n",
    "    with iterations you can specifiy the amount of planes\n",
    "\n",
    "    with error_angle you can set the angle of minimal difference between planes\n",
    "\n",
    "    with grid_angle you can specify the grid-size for the brute-force estimate\n",
    "    '''\n",
    "    coord = points.copy()\n",
    "    # empty list for results\n",
    "    resbrute = []\n",
    "    # scale the coords\n",
    "    coord, scale, shift = center_unit(coord)\n",
    "    #print(\"scale\", scale)\n",
    "    #print(\"shift\", shift)\n",
    "    # get the distances within the coords\n",
    "    dist_coord = distances(coord)\n",
    "    \n",
    "    \n",
    "    # use the histogram to find the minimum distance between the points\n",
    "    min_dist = first_val(*np.histogram(dist_coord, bins=coord.shape[0]), bound = bounds)\n",
    "    # set a maximal range where the plane can move from the origin\n",
    "    max_dist = np.max(dist_coord)/8.0\n",
    "    # set the epsilon for checking if point in plane\n",
    "    eps = min_dist/8.0\n",
    "    #print(\"min_dist\", min_dist)\n",
    "    #print(\"max_dist\", max_dist)\n",
    "    #print(\"eps\", eps)\n",
    "    # initialize the black-list\n",
    "    blist = []\n",
    "    for i in range(iterations):\n",
    "        print(\"----- iteration: {}\".format(i))\n",
    "        res = brute(no_of_points,\n",
    "                    ranges=(slice(0., np.pi/2., grid_angle),  # 90° in 2° steps\n",
    "                            slice(0., 2.*np.pi, grid_angle),  # 360° in 2° step\n",
    "                            slice(-max_dist, max_dist, eps/2.5)),\n",
    "                    args=(coord, eps, blist, error_angle),\n",
    "                    disp=False)\n",
    "        blist.append(res[:2])\n",
    "        #print(\"phi, psi, dist\", res)\n",
    "        resbrute.append(res)\n",
    "\n",
    "    # components of the affine backtransformation for the coords\n",
    "#    trans_mat = np.diag(1/scale)\n",
    "    trans_mat = np.diag(scale)\n",
    "    trans_vec = shift\n",
    "\n",
    "    # get the normal-vectors and dists of the planes from their angles\n",
    "    norms = []\n",
    "    dists = []\n",
    "    for res in resbrute:\n",
    "        norms.append(ang_to_norm(res[0], res[1]))\n",
    "        dists.append(res[2])\n",
    "\n",
    "    out = []\n",
    "\n",
    "    # backtransform the planes to the original coords\n",
    "    for norm, dist in zip(norms, dists):\n",
    "        out.append(affin_hessian(norm, dist, trans_mat, trans_vec))\n",
    "\n",
    "    return out\n",
    "\n",
    "\n",
    "def plot_planes(coord, planes, vectors=None, origin=None, cubesize = 6):\n",
    "    '''\n",
    "    plot the choord-cloud and the planes given as a list of norms and dists\n",
    "    '''\n",
    "    # create the figure for plotting\n",
    "    fig = plt.figure()\n",
    "    \n",
    "    plt.rc('text', usetex=True)\n",
    "    plt.rc('font', family='serif')\n",
    "    # create the first axis\n",
    "    ax = fig.add_subplot(111, projection='3d')\n",
    "    # plot the points\n",
    "    ax.scatter(coord[:, 0], coord[:, 1], coord[:, 2], c='k' )\n",
    "    \n",
    "    \n",
    "    ax.set_xlabel(\"kz [1/nm]\")\n",
    "    ax.set_ylabel(\"kx [1/nm]\")\n",
    "    ax.set_zlabel(\"ky [1/nm]\")\n",
    "\n",
    "    # get the axes-limits to cut the plane afterwards\n",
    "    x_lim = ax.get_xlim()\n",
    "    y_lim = ax.get_ylim()\n",
    "    z_lim = ax.get_zlim()\n",
    "\n",
    "    # set 30 steps for the plane in x and y direction\n",
    "    x_stp = (x_lim[1] - x_lim[0])/30\n",
    "    y_stp = (y_lim[1] - y_lim[0])/30\n",
    "    # generate the mesh for plotting the plane\n",
    "    xx, yy = np.meshgrid(np.arange(x_lim[0], x_lim[1], x_stp),\n",
    "                         np.arange(y_lim[0], y_lim[1], y_stp))\n",
    "    # get the normal vector of the plane\n",
    "    for normal, dist in planes:\n",
    "        # calculate the z-elevation of the planes\n",
    "        zz = (-normal[0]*xx - normal[1]*yy + dist)/normal[2]\n",
    " \n",
    "        ax.plot_surface(xx, yy, zz, color='b', alpha=0.05) # color=(1, 0, 0, 0.3)\n",
    "    ax.set_xlim([-cubesize/10, cubesize/10])\n",
    "    ax.set_ylim([-cubesize, cubesize])\n",
    "    ax.set_zlim([-cubesize, cubesize])\n",
    "    # plot vectors\n",
    "    if vectors is not None:\n",
    "        X = [origin[0], origin[0], origin[0]]\n",
    "        Y = [origin[1], origin[1], origin[1]]\n",
    "        Z = [origin[2], origin[2], origin[2]]\n",
    "        U = [vectors[0][0], vectors[1][0], vectors[2][0]]\n",
    "        V = [vectors[0][1], vectors[1][1], vectors[2][1]]\n",
    "        W = [vectors[0][2], vectors[1][2], vectors[2][2]]\n",
    "        ax.quiver(X, Y, Z, U, V, W)\n",
    "    # show the plot\n",
    "    plt.show()\n",
    "\n",
    "\n",
    "def normal_basis(plane1, plane2, plane3):\n",
    "    '''\n",
    "    calculate a normal-basis from the intersections of 3 planes:\n",
    "    b1, b2, b3, origin\n",
    "    '''\n",
    "    #print(\"------------\")\n",
    "    #print(\"basis vectors\")\n",
    "    b1 = np.cross(plane1[0], plane2[0])\n",
    "    b1 = b1/np.linalg.norm(b1)\n",
    "    b2 = np.cross(plane2[0], plane3[0])\n",
    "    b2 = b2/np.linalg.norm(b2)\n",
    "    b3 = np.cross(plane3[0], plane1[0])\n",
    "    b3 = b3/np.linalg.norm(b3)\n",
    "\n",
    "    matrix = np.vstack((plane1[0], plane2[0], plane3[0]))\n",
    "    rhs = np.array((plane1[1], plane2[1], plane3[1]))\n",
    "    origin = np.linalg.solve(matrix, rhs)\n",
    "\n",
    "    #print(\"basis_1\", b1)\n",
    "    #print(\"basis_2\", b2)\n",
    "    #print(\"basis_3\", b3)\n",
    "    #print(\"origin\", origin)\n",
    "\n",
    "    return b1, b2, b3, origin\n",
    "\n",
    "\n",
    "def new_coord(coord, b1, b2, b3, ori):\n",
    "    '''\n",
    "    get the new coordinates of a list of points for a given new coordiante-sys\n",
    "    with basis vectors b1,b2,b3 and the origin ori (where the planes intersect)\n",
    "    '''\n",
    "    # the basis-change matrix\n",
    "    mat = np.linalg.inv(np.vstack((b1, b2, b3)).T)\n",
    "    new_coord = np.empty_like(coord)\n",
    "    # calculate the new coords by multipling coord with the basis-change matrix\n",
    "    for i in range(coord.shape[0]):\n",
    "        new_coord[i] = np.squeeze(np.dot(mat,\n",
    "                                         np.array(coord[i]-ori, ndmin=2).T))\n",
    "    return new_coord\n",
    "\n",
    "######################## 3 minimization routine\n",
    "\n",
    "def mae_to_int(length, new_coord, component=0):\n",
    "    '''\n",
    "    calculate the mean absolut error to a grid with given length of the given\n",
    "    \"component\"-th basis-vector\n",
    "    '''\n",
    "    arr = new_coord[:, component]/length\n",
    "    return np.mean(np.abs(arr-np.rint(arr)))\n",
    "\n",
    "\n",
    "def get_basis_lengths(coord, b1, b2, b3, ori):\n",
    "    '''\n",
    "    given a suitable basis in normal form, calculate fitting lengths of\n",
    "    the basis-vectors, so that the coords are lying in an integer-grid\n",
    "    '''\n",
    "    # get the distances within the coords\n",
    "    dist_coord = distances(coord)\n",
    "    # use the histogram to find the minimum distance between the points\n",
    "    min_dist = first_val(*np.histogram(dist_coord, bins=coord.shape[0]), bound =  bounds) /2\n",
    "    # set a maximal range where the plane can move from the origin\n",
    "    max_dist = np.max(dist_coord)/7.0\n",
    "    #print(\"min_dist\", min_dist)\n",
    "    #print(\"max_dist\", max_dist)\n",
    "    new_coor = new_coord(coord, b1, b2, b3, ori)\n",
    "    lengths = []\n",
    "    # optimize over the length of each basis vector\n",
    "    for i in range(3):\n",
    "        #print(\"----------------------\")\n",
    "        #print(\"scaling basis vector\", i)\n",
    "        length = fminbound(mae_to_int, min_dist, max_dist,\n",
    "                           args=(new_coor, i),\n",
    "                           xtol=1e-5,\n",
    "                           maxfun=50000,\n",
    "                           disp=False)\n",
    "        # check if a multiple of the actual length fits also\n",
    "        # if bigger \n",
    "        error = mae_to_int(length, new_coor, i)\n",
    "        #print(\"error\", error)\n",
    "        scale = 1\n",
    "        for j in range(2, 5):\n",
    "            error_i = mae_to_int(j*length, new_coor, i)\n",
    "            if abs(error - error_i) > min_dist/2:\n",
    "                #print(\"error_diff\", abs(error - error_i))\n",
    "                #print(\"scaling\", j-1)\n",
    "                scale = j-1\n",
    "                break\n",
    "\n",
    "        lengths.append(scale*length)\n",
    "\n",
    "    return lengths\n",
    "\n",
    "def get_combi_iter(iterat):\n",
    "    ''' \n",
    "    given a suitable basis in normal form, calculate fitting lengths of\n",
    "    the basis-vectors, so that the coords are lying in an integer-grid\n",
    "    '''\n",
    "    comb = combinations(range(iterat), 3)\n",
    "    combi = [] \n",
    "    for i in list(comb):\n",
    "        combi.append(i)\n",
    "    return np.array(combi)\n",
    "\n",
    "def unit_vector(vector):\n",
    "    \"\"\" Returns the unit vector of the vector.  \"\"\"\n",
    "    return vector / np.linalg.norm(vector)\n",
    "\n",
    "def angle_between(v1, v2):\n",
    "    \"\"\" Returns the angle in radians between vectors 'v1' and 'v2'::\n",
    "\n",
    "            >>> angle_between((1, 0, 0), (0, 1, 0))\n",
    "            1.5707963267948966\n",
    "            >>> angle_between((1, 0, 0), (1, 0, 0))\n",
    "            0.0\n",
    "            >>> angle_between((1, 0, 0), (-1, 0, 0))\n",
    "            3.141592653589793\n",
    "    \"\"\"  \n",
    "    \n",
    "    if np.linalg.norm(v1) == 0 or np.linalg.norm(v2) == 0:\n",
    "        return 0\n",
    "    \n",
    "    else:\n",
    "        v1_u = unit_vector(v1)\n",
    "        v2_u = unit_vector(v2)\n",
    "        return np.arccos(np.clip(np.dot(v1_u, v2_u), -1.0, 1.0))\n",
    "    "
   ]
  },
  {
   "cell_type": "code",
   "execution_count": 2,
   "metadata": {},
   "outputs": [
    {
     "name": "stdout",
     "output_type": "stream",
     "text": [
      "----- iteration: 0\n",
      "----- iteration: 1\n",
      "----- iteration: 2\n",
      "----- iteration: 3\n"
     ]
    }
   ],
   "source": [
    "if __name__ == \"__main__\":\n",
    "    # load the points\n",
    "    coord = np.load(\"autocoi_thresh_50.npy\")\n",
    "    \n",
    "    bounds = len(coord)/2\n",
    "\n",
    "    ###########    USERINTERACTION ###############\n",
    "    iterat = 4  # number of iterations (number of planes that are calculated)\n",
    "                # estimate 4 planes in hessian normal form given by angles of norm-vector\n",
    "                # (phi, psi) and distance to origin    \n",
    "    \n",
    "    planes = estimate_planes(coord, iterations=iterat);\n",
    "    # plane 1 and 2 are very similar (take plane 2 in the following)\n",
    "    # get the normal-basis from plane 0, 2 and 3\n",
    "    \n",
    "    "
   ]
  },
  {
   "cell_type": "code",
   "execution_count": 3,
   "metadata": {},
   "outputs": [],
   "source": [
    "combi = get_combi_iter(iterat) # all combination of planes\n",
    "sumbasvec = []\n",
    "basangles = []\n",
    "\n",
    "################# USERINTERACTION ################\n",
    "combi_n = 3 # plane combination [1, 2, 3]\n",
    "\n",
    "\n",
    "p1, p2, p3 = combi[combi_n]\n",
    "b1, b2, b3, origin = normal_basis(planes[p1], planes[p2], planes[p3]);\n",
    "scale = get_basis_lengths(coord, b1, b2, b3, origin);\n",
    "\n",
    "# rescale the basis\n",
    "basis1 = scale[0]*b1\n",
    "basis2 = scale[1]*b2\n",
    "basis3 = scale[2]*b3\n",
    "\n",
    "# planes for the shortes sum of basis vectors\n",
    "#p1, p2, p3 = combi[sumbasvec == np.min(sumbasvec)][0] # get plane combination with minimal sum of basis vecotrs\n",
    "\n",
    "\n",
    "# plot the planes and basis-vectors\n",
    "\n",
    "plot_planes(coord, [planes[p1], planes[p2], planes[p3]],\n",
    "            vectors=[basis1, basis2, basis3],\n",
    "            origin=origin)\n",
    "# plot the coordinates in the integer grid\n",
    "int_coord = np.empty_like(coord)\n",
    "\n",
    "\n",
    "# get the new coordinates for the new basis\n",
    "new_coor = new_coord(coord, basis1, basis2, basis3, origin)\n",
    "\n",
    "# round new coordinates to integer values\n",
    "new_coor = np.array(np.rint(new_coor), dtype=int)\n",
    "\n",
    "for i in range(3):\n",
    "    int_coord[:, i] = (new_coor[:, 0]*basis1[i] +\n",
    "                       new_coor[:, 1]*basis2[i] +\n",
    "                       new_coor[:, 2]*basis3[i] +\n",
    "                       origin[i])\n",
    "\n",
    "# basis angles\n",
    "alpha1 = angle_between(basis1, basis2)\n",
    "alpha2 = angle_between(basis1, basis3)\n",
    "alpha3 = angle_between(basis2, basis3)\n",
    "\n",
    "\n",
    "\n",
    "\n",
    "# save all results\n",
    "np.savetxt(\"basis1.txt\", basis1)\n",
    "np.savetxt(\"basis2.txt\", basis2)\n",
    "np.savetxt(\"basis3.txt\", basis3)\n",
    "np.savetxt(\"origin.txt\", origin)\n",
    "np.savetxt(\"new_coord.txt\", new_coor, fmt=\"%d\")\n",
    "\n",
    "plot_planes(int_coord, [planes[p1], planes[p2], planes[p3]],\n",
    "            vectors=[basis1, basis2, basis3],\n",
    "            origin=origin)"
   ]
  },
  {
   "cell_type": "markdown",
   "metadata": {},
   "source": [
    "# Data Plot"
   ]
  },
  {
   "cell_type": "code",
   "execution_count": 43,
   "metadata": {},
   "outputs": [],
   "source": [
    "#for ang1 in range(0, 3):\n",
    "#    for ang2 in range(0, 3): \n",
    "\n",
    "\n",
    "plt.rc('text', usetex=True)\n",
    "plt.rc('font', family='serif')\n",
    "\n",
    "cubesize = 6\n",
    "vectors = [basis1, basis2, basis3]\n",
    "origin = origin\n",
    "\n",
    "# create the figure for plotting\n",
    "fig = plt.figure()\n",
    "# create the first axis\n",
    "ax = fig.add_subplot(111, projection='3d')\n",
    "\n",
    "# plot the points\n",
    "bg3d = ax.scatter(coord[:, 0], coord[:, 1], coord[:, 2], c='k' )\n",
    "# get the axes-limits to cut the plane afterwards\n",
    "x_lim = ax.get_xlim()\n",
    "y_lim = ax.get_ylim()\n",
    "z_lim = ax.get_zlim()\n",
    "\n",
    "ax.set_xlabel(\"kz [1/nm]\")\n",
    "ax.set_ylabel(\"kx [1/nm]\")\n",
    "ax.set_zlabel(\"ky [1/nm]\")\n",
    "\n",
    "# set 30 steps for the plane in x and y direction\n",
    "x_stp = (x_lim[1] - x_lim[0])/30\n",
    "y_stp = (y_lim[1] - y_lim[0])/30\n",
    "# generate the mesh for plotting the plane\n",
    "xx, yy = np.meshgrid(np.arange(x_lim[0], x_lim[1], x_stp),\n",
    "                     np.arange(y_lim[0], y_lim[1], y_stp))\n",
    "# get the normal vector of the plane\n",
    "for normal, dist in planes:\n",
    "    # calculate the z-elevation of the planes\n",
    "    zz = (-normal[0]*xx - normal[1]*yy + dist)/normal[2]\n",
    "\n",
    "    ax.plot_surface(xx, yy, zz, color='b', alpha=0.075) # color=(1, 0, 0, 0.3)\n",
    "\n",
    "ax.set_xlim([-cubesize/10, cubesize/10])\n",
    "ax.set_ylim([-cubesize, cubesize])\n",
    "ax.set_zlim([-cubesize, cubesize])\n",
    "# plot vectors\n",
    "if vectors is not None:\n",
    "    X = [origin[0], origin[0], origin[0]]\n",
    "    Y = [origin[1], origin[1], origin[1]]\n",
    "    Z = [origin[2], origin[2], origin[2]]\n",
    "    U = [vectors[0][0], vectors[1][0], vectors[2][0]]\n",
    "    V = [vectors[0][1], vectors[1][1], vectors[2][1]]\n",
    "    W = [vectors[0][2], vectors[1][2], vectors[2][2]]\n",
    "    ax.quiver(X, Y, Z, U, V, W, color='r')\n",
    "# show the plot\n",
    "plt.show()\n",
    "\n",
    "#figname = \"data\" + str(ang1) + \"-\" + str(ang2) + \".pdf\"\n",
    "#fig.savefig(figname, bbox_inches='tight')"
   ]
  },
  {
   "cell_type": "markdown",
   "metadata": {},
   "source": [
    "# simulation plot"
   ]
  },
  {
   "cell_type": "code",
   "execution_count": 12,
   "metadata": {},
   "outputs": [],
   "source": [
    "\n",
    "\n",
    "plt.rc('text', usetex=True)\n",
    "plt.rc('font', family='serif')\n",
    "\n",
    "cubesize = 6\n",
    "vectors = [basis1, basis2, basis3]\n",
    "origin = origin\n",
    "\n",
    "# create the figure for plotting\n",
    "fig = plt.figure()\n",
    "# create the first axis\n",
    "ax = fig.add_subplot(111, projection='3d')\n",
    "\n",
    "\n",
    "\n",
    "# plot the points\n",
    "bg3d = ax.scatter(int_coord[:, 0], int_coord[:, 1], int_coord[:, 2], c='k' )\n",
    "# get the axes-limits to cut the plane afterwards\n",
    "x_lim = ax.get_xlim()\n",
    "y_lim = ax.get_ylim()\n",
    "z_lim = ax.get_zlim()\n",
    "\n",
    "ax.set_xlabel(\"kz [1/nm]\")\n",
    "ax.set_ylabel(\"kx [1/nm]\")\n",
    "ax.set_zlabel(\"ky [1/nm]\")\n",
    "\n",
    "# set 30 steps for the plane in x and y direction\n",
    "x_stp = (x_lim[1] - x_lim[0])/30\n",
    "y_stp = (y_lim[1] - y_lim[0])/30\n",
    "# generate the mesh for plotting the plane\n",
    "xx, yy = np.meshgrid(np.arange(x_lim[0], x_lim[1], x_stp),\n",
    "                     np.arange(y_lim[0], y_lim[1], y_stp))\n",
    "# get the normal vector of the plane\n",
    "for normal, dist in planes:\n",
    "    # calculate the z-elevation of the planes\n",
    "    zz = (-normal[0]*xx - normal[1]*yy + dist)/normal[2]\n",
    "\n",
    "    ax.plot_surface(xx, yy, zz, color='b', alpha=0.075) # color=(1, 0, 0, 0.3)\n",
    "\n",
    "ax.set_xlim([-cubesize/10, cubesize/10])\n",
    "ax.set_ylim([-cubesize, cubesize])\n",
    "ax.set_zlim([-cubesize, cubesize])\n",
    "# plot vectors\n",
    "if vectors is not None:\n",
    "    X = [origin[0], origin[0], origin[0]]\n",
    "    Y = [origin[1], origin[1], origin[1]]\n",
    "    Z = [origin[2], origin[2], origin[2]]\n",
    "    U = [vectors[0][0], vectors[1][0], vectors[2][0]]\n",
    "    V = [vectors[0][1], vectors[1][1], vectors[2][1]]\n",
    "    W = [vectors[0][2], vectors[1][2], vectors[2][2]]\n",
    "    ax.quiver(X, Y, Z, U, V, W, color='r')\n",
    "    # show the plot\n",
    "plt.show()"
   ]
  },
  {
   "cell_type": "markdown",
   "metadata": {},
   "source": [
    "# data animation"
   ]
  },
  {
   "cell_type": "code",
   "execution_count": 8,
   "metadata": {},
   "outputs": [],
   "source": [
    "from matplotlib import animation\n",
    "\n",
    "plt.rc('text', usetex=True)\n",
    "plt.rc('font', family='serif')\n",
    "\n",
    "cubesize = 6\n",
    "vectors = [basis1, basis2, basis3]\n",
    "origin = origin\n",
    "\n",
    "# create the figure for plotting\n",
    "fig = plt.figure()\n",
    "# create the first axis\n",
    "ax = fig.add_subplot(111, projection='3d')\n",
    "# plot the points\n",
    "bg3d = ax.scatter(coord[:, 0], coord[:, 1], coord[:, 2], c='k' )\n",
    "# get the axes-limits to cut the plane afterwards\n",
    "x_lim = ax.get_xlim()\n",
    "y_lim = ax.get_ylim()\n",
    "z_lim = ax.get_zlim()\n",
    "\n",
    "ax.set_xlabel(\"kz [1/nm]\")\n",
    "ax.set_ylabel(\"kx [1/nm]\")\n",
    "ax.set_zlabel(\"ky [1/nm]\")\n",
    "\n",
    "# set 30 steps for the plane in x and y direction\n",
    "x_stp = (x_lim[1] - x_lim[0])/30\n",
    "y_stp = (y_lim[1] - y_lim[0])/30\n",
    "# generate the mesh for plotting the plane\n",
    "xx, yy = np.meshgrid(np.arange(x_lim[0], x_lim[1], x_stp),\n",
    "                     np.arange(y_lim[0], y_lim[1], y_stp))\n",
    "# get the normal vector of the plane\n",
    "for normal, dist in planes:\n",
    "    # calculate the z-elevation of the planes\n",
    "    zz = (-normal[0]*xx - normal[1]*yy + dist)/normal[2]\n",
    "\n",
    "    ax.plot_surface(xx, yy, zz, color='b', alpha=0.1) # color=(1, 0, 0, 0.3)\n",
    "\n",
    "ax.set_xlim([-cubesize/10, cubesize/10])\n",
    "ax.set_ylim([-cubesize, cubesize])\n",
    "ax.set_zlim([-cubesize, cubesize])\n",
    "# plot vectors\n",
    "if vectors is not None:\n",
    "    X = [origin[0], origin[0], origin[0]]\n",
    "    Y = [origin[1], origin[1], origin[1]]\n",
    "    Z = [origin[2], origin[2], origin[2]]\n",
    "    U = [vectors[0][0], vectors[1][0], vectors[2][0]]\n",
    "    V = [vectors[0][1], vectors[1][1], vectors[2][1]]\n",
    "    W = [vectors[0][2], vectors[1][2], vectors[2][2]]\n",
    "    ax.quiver(X, Y, Z, U, V, W)\n",
    "# show the plot\n",
    "plt.show()\n",
    "\n",
    "def init():\n",
    "    bg3d\n",
    "    return fig,\n",
    "\n",
    "def animate(i):\n",
    "    ax.view_init(elev=i/2, azim=i)\n",
    "    return fig,\n",
    "\n",
    "# Set up formatting for the movie files\n",
    "Writer = animation.writers['ffmpeg']\n",
    "writer = Writer(fps=15, metadata=dict(artist='Tillmann Wieland'), bitrate=50000)\n",
    "\n",
    "# Animate\n",
    "anim = animation.FuncAnimation(fig, animate, init_func=init, frames=100,  blit=True, repeat_delay=3)# interval=1000,\n",
    "\n",
    "anim.save('plane_data_animation.mp4', writer=writer)"
   ]
  },
  {
   "cell_type": "markdown",
   "metadata": {},
   "source": [
    "# Simulated animation"
   ]
  },
  {
   "cell_type": "code",
   "execution_count": 9,
   "metadata": {},
   "outputs": [],
   "source": [
    "from matplotlib import animation\n",
    "\n",
    "plt.rc('text', usetex=True)\n",
    "plt.rc('font', family='serif')\n",
    "\n",
    "cubesize = 6\n",
    "vectors = [basis1, basis2, basis3]\n",
    "origin = origin\n",
    "\n",
    "# create the figure for plotting\n",
    "fig = plt.figure()\n",
    "# create the first axis\n",
    "ax = fig.add_subplot(111, projection='3d')\n",
    "# plot the points\n",
    "bg3d = ax.scatter(int_coord[:, 0], int_coord[:, 1], int_coord[:, 2], c='k' )\n",
    "# get the axes-limits to cut the plane afterwards\n",
    "x_lim = ax.get_xlim()\n",
    "y_lim = ax.get_ylim()\n",
    "z_lim = ax.get_zlim()\n",
    "\n",
    "ax.set_xlabel(\"kz [1/nm]\")\n",
    "ax.set_ylabel(\"kx [1/nm]\")\n",
    "ax.set_zlabel(\"ky [1/nm]\")\n",
    "\n",
    "# set 30 steps for the plane in x and y direction\n",
    "x_stp = (x_lim[1] - x_lim[0])/30\n",
    "y_stp = (y_lim[1] - y_lim[0])/30\n",
    "# generate the mesh for plotting the plane\n",
    "xx, yy = np.meshgrid(np.arange(x_lim[0], x_lim[1], x_stp),\n",
    "                     np.arange(y_lim[0], y_lim[1], y_stp))\n",
    "# get the normal vector of the plane\n",
    "for normal, dist in planes:\n",
    "    # calculate the z-elevation of the planes\n",
    "    zz = (-normal[0]*xx - normal[1]*yy + dist)/normal[2]\n",
    "\n",
    "    ax.plot_surface(xx, yy, zz, color='b', alpha=0.1) # color=(1, 0, 0, 0.3)\n",
    "\n",
    "ax.set_xlim([-cubesize/10, cubesize/10])\n",
    "ax.set_ylim([-cubesize, cubesize])\n",
    "ax.set_zlim([-cubesize, cubesize])\n",
    "# plot vectors\n",
    "if vectors is not None:\n",
    "    X = [origin[0], origin[0], origin[0]]\n",
    "    Y = [origin[1], origin[1], origin[1]]\n",
    "    Z = [origin[2], origin[2], origin[2]]\n",
    "    U = [vectors[0][0], vectors[1][0], vectors[2][0]]\n",
    "    V = [vectors[0][1], vectors[1][1], vectors[2][1]]\n",
    "    W = [vectors[0][2], vectors[1][2], vectors[2][2]]\n",
    "    ax.quiver(X, Y, Z, U, V, W)\n",
    "# show the plot\n",
    "plt.show()\n",
    "\n",
    "def init():\n",
    "    bg3d\n",
    "    return fig,\n",
    "\n",
    "def animate(i):\n",
    "    ax.view_init(elev=i/2, azim=i)\n",
    "    return fig,\n",
    "\n",
    "# Set up formatting for the movie files\n",
    "Writer = animation.writers['ffmpeg']\n",
    "writer = Writer(fps=15, metadata=dict(artist='Tillmann Wieland'), bitrate=50000)\n",
    "\n",
    "# Animate\n",
    "anim = animation.FuncAnimation(fig, animate, init_func=init, frames=100,  blit=True, repeat_delay=3)# interval=1000,\n",
    "\n",
    "anim.save('plane_simulated.mp4', writer=writer)"
   ]
  },
  {
   "cell_type": "code",
   "execution_count": 19,
   "metadata": {},
   "outputs": [
    {
     "name": "stdout",
     "output_type": "stream",
     "text": [
      "Angel between basis 12, 23, 13:\n",
      "92.51315915408244 16.790909398742148 75.82213705292297\n",
      "nb1, nb2, nb3:\n",
      "1.2774142823217831 2.673145237644728 2.7123315542042348\n"
     ]
    }
   ],
   "source": [
    "angb12 = angle_between(basis1,basis2)*180/np.pi\n",
    "angb23 = angle_between(basis2,basis3)*180/np.pi\n",
    "angb13 = angle_between(basis1,basis3)*180/np.pi\n",
    "print(\"Angel between basis 12, 23, 13:\")\n",
    "print(angb12, angb23, angb13)\n",
    "\n",
    "\n",
    "nb1 = np.linalg.norm(basis1)\n",
    "nb2 = np.linalg.norm(basis2)\n",
    "nb3 = np.linalg.norm(basis3)\n",
    "\n",
    "print(\"nb1, nb2, nb3:\")\n",
    "print(nb1, nb2, nb3)"
   ]
  },
  {
   "cell_type": "code",
   "execution_count": 21,
   "metadata": {},
   "outputs": [],
   "source": [
    "plt.rc('text', usetex=True)\n",
    "plt.rc('font', family='serif')\n",
    "\n",
    "\n",
    "cubesize = 6\n",
    "vectors = [basis1, basis2, basis3]\n",
    "origin = int_coord[indices[0,0]]\n",
    "\n",
    "# create the figure for plotting\n",
    "fig = plt.figure()\n",
    "# create the first axis\n",
    "ax = fig.add_subplot(111, projection='3d')\n",
    "\n",
    "\n",
    "\n",
    "# plot the points\n",
    "bg3d = ax.scatter(int_coord[:, 0], int_coord[:, 1], int_coord[:, 2], c='k' )\n",
    "\n",
    "\n",
    "ax.set_xlabel(r'kz in $\\frac{1}{nm}$]')\n",
    "ax.set_ylabel(r'kx in $\\frac{1}{nm}$]')\n",
    "ax.set_zlabel(r'ky in $\\frac{1}{nm}$]')\n",
    "\n",
    "\n",
    "\n",
    "limit1 = -1.5\n",
    "limit2 = 1.5\n",
    "ax.set_xlim([limit1, limit2])\n",
    "ax.set_ylim([limit1, limit2])\n",
    "ax.set_zlim([limit1, limit2])\n",
    "# plot vectors\n",
    "if vectors is not None:\n",
    "    X = [origin[0], origin[0], origin[0]]\n",
    "    Y = [origin[1], origin[1], origin[1]]\n",
    "    Z = [origin[2], origin[2], origin[2]]\n",
    "    U = [vectors[0][0], vectors[1][0], vectors[2][0]]\n",
    "    V = [vectors[0][1], vectors[1][1], vectors[2][1]]\n",
    "    W = [vectors[0][2], vectors[1][2], vectors[2][2]]\n",
    "    ax.quiver(X, Y, Z, U, V, W, color='blue')\n",
    "    # show the plot\n",
    "plt.show()"
   ]
  },
  {
   "cell_type": "markdown",
   "metadata": {},
   "source": [
    "# Smallest, linear independent basis vector ansatz"
   ]
  },
  {
   "cell_type": "code",
   "execution_count": 22,
   "metadata": {},
   "outputs": [],
   "source": [
    "# import int_coord\n",
    "int_coord= np.loadtxt(\"int_coord.txt\")\n",
    "\n",
    "kdt = KDTree(int_coord, leaf_size=2, metric='euclidean') # int_coord\n",
    "distances, indices = kdt.query(int_coord, k=len(int_coord))"
   ]
  },
  {
   "cell_type": "code",
   "execution_count": 79,
   "metadata": {},
   "outputs": [],
   "source": [
    "# make sure that the beginning point is the center of the point cloud\n",
    "smdist = distances[0]\n",
    "for i in range(len(distances)):\n",
    "    while distances[i,j] <= smdist[j]:\n",
    "            smdist = distances[i]\n",
    "            smind = i\n",
    "            i =+ 1\n",
    "\n",
    "\n",
    "#find nearest neighbor of beginning point\n",
    "for i in range(len(smdist)):\n",
    "    if smdist[i] > 0:\n",
    "        dist_min = smdist[i]\n",
    "        break\n",
    "        \n",
    "indi_min = indices[smind][smdist == dist_min]\n",
    "new_basis1 = int_coord[indi_min][0] - int_coord[indices[smind,0]] # first basis vector\n",
    "\n",
    "#find second nearest neighbor of first lattice point\n",
    "for i in range(len(smdist)):\n",
    "    if smdist[i] > dist_min:\n",
    "        dist_min2 = smdist[i]\n",
    "        \n",
    "        indi_min2 = indices[smind][smdist == dist_min2]\n",
    "        new_basis2 = int_coord[indi_min2][0] - int_coord[indices[smind,0]] # second basis vector\n",
    "        \n",
    "        #check if linear independent      \n",
    "        A = np.row_stack([new_basis1, new_basis2])\n",
    "        U, s, V = np.linalg.svd(A)\n",
    "        \n",
    "        if np.sum(s > 0.0000001) > 1 :      # rank of matrix must be bigger than 1 for the vectors to be\n",
    "                                            # linear independent\n",
    "            break\n",
    "\n",
    "#find third nearest neighbor of first lattice point\n",
    "for i in range(len(distances[0])):\n",
    "    if smdist[i] > dist_min2:\n",
    "        dist_min3 = smdist[i]\n",
    "        \n",
    "        indi_min3 = indices[smind][smdist == dist_min3]\n",
    "        new_basis3 = int_coord[indi_min3][0] - int_coord[indices[smind,0]] # third basis vector\n",
    "        #check if linear independent      \n",
    "        A = np.row_stack([new_basis1, new_basis2, new_basis3])\n",
    "        U, s, V = np.linalg.svd(A)\n",
    "        \n",
    "        if np.sum(s > 0.0001) > 2:          # rank of matrix must be bigger than 2 for the vectors to be\n",
    "                                            # linear independent\n",
    "            break"
   ]
  },
  {
   "cell_type": "code",
   "execution_count": 82,
   "metadata": {},
   "outputs": [
    {
     "name": "stdout",
     "output_type": "stream",
     "text": [
      "Angel between basis 12, 23, 13:\n",
      "86.99949098196304 77.2033649192605 99.95888772001764\n",
      "nb1, nb2, nb3:\n",
      "0.34267448893584246 0.3531766025541934 2.4959732472471834\n"
     ]
    }
   ],
   "source": [
    "angnb12 = angle_between(new_basis1,new_basis2)*180/np.pi\n",
    "angnb23 = angle_between(new_basis2,new_basis3)*180/np.pi\n",
    "angnb13 = angle_between(new_basis1,new_basis3)*180/np.pi\n",
    "print(\"Angel between basis 12, 23, 13:\")\n",
    "print(angnb12, angnb23, angnb13)\n",
    "\n",
    "\n",
    "nb1 = np.linalg.norm(new_basis1)\n",
    "nb2 = np.linalg.norm(new_basis2)\n",
    "nb3 = np.linalg.norm(new_basis3)\n",
    "\n",
    "print(\"nb1, nb2, nb3:\")\n",
    "print(nb1, nb2, nb3)"
   ]
  },
  {
   "cell_type": "code",
   "execution_count": 112,
   "metadata": {},
   "outputs": [],
   "source": [
    "A = np.row_stack([np.array([1,1,0]), np.array([0,0,1])])\n",
    "U, s, V = np.linalg.svd(A)"
   ]
  },
  {
   "cell_type": "code",
   "execution_count": 115,
   "metadata": {},
   "outputs": [
    {
     "data": {
      "text/plain": [
       "array([[1, 1, 0],\n",
       "       [0, 0, 1]])"
      ]
     },
     "execution_count": 115,
     "metadata": {},
     "output_type": "execute_result"
    }
   ],
   "source": [
    "A"
   ]
  },
  {
   "cell_type": "code",
   "execution_count": 114,
   "metadata": {},
   "outputs": [
    {
     "data": {
      "text/plain": [
       "array([[1., 0.],\n",
       "       [0., 1.]])"
      ]
     },
     "execution_count": 114,
     "metadata": {},
     "output_type": "execute_result"
    }
   ],
   "source": [
    "U"
   ]
  },
  {
   "cell_type": "code",
   "execution_count": 113,
   "metadata": {},
   "outputs": [
    {
     "data": {
      "text/plain": [
       "array([1.41421356, 1.        ])"
      ]
     },
     "execution_count": 113,
     "metadata": {},
     "output_type": "execute_result"
    }
   ],
   "source": [
    "s"
   ]
  },
  {
   "cell_type": "code",
   "execution_count": 116,
   "metadata": {},
   "outputs": [
    {
     "data": {
      "text/plain": [
       "array([[ 0.70710678,  0.70710678,  0.        ],\n",
       "       [ 0.        ,  0.        ,  1.        ],\n",
       "       [ 0.70710678, -0.70710678,  0.        ]])"
      ]
     },
     "execution_count": 116,
     "metadata": {},
     "output_type": "execute_result"
    }
   ],
   "source": [
    "V"
   ]
  },
  {
   "cell_type": "markdown",
   "metadata": {},
   "source": [
    "# Plot of new basis"
   ]
  },
  {
   "cell_type": "code",
   "execution_count": 89,
   "metadata": {},
   "outputs": [],
   "source": [
    "plt.rc('text', usetex=True)\n",
    "plt.rc('font', family='serif')\n",
    "\n",
    "\n",
    "cubesize = 6\n",
    "vectors = [new_basis1, new_basis2, new_basis3]\n",
    "origin = int_coord[smind]\n",
    "\n",
    "# create the figure for plotting\n",
    "fig = plt.figure()\n",
    "# create the first axis\n",
    "ax = fig.add_subplot(111, projection='3d')\n",
    "\n",
    "\n",
    "\n",
    "# plot the points\n",
    "bg3d = ax.scatter(int_coord[:, 0], int_coord[:, 1], int_coord[:, 2], c='k' )\n",
    "\n",
    "\n",
    "ax.set_xlabel(r'kz in $\\frac{1}{nm}$]')\n",
    "ax.set_ylabel(r'kx in $\\frac{1}{nm}$]')\n",
    "ax.set_zlabel(r'ky in $\\frac{1}{nm}$]')\n",
    "\n",
    "\n",
    "\n",
    "limit1 = -1.5\n",
    "limit2 = 1\n",
    "ax.set_xlim([limit1, limit2])\n",
    "ax.set_ylim([limit1, limit2])\n",
    "ax.set_zlim([limit1, limit2])\n",
    "# plot vectors\n",
    "if vectors is not None:\n",
    "    X = [origin[0], origin[0], origin[0]]\n",
    "    Y = [origin[1], origin[1], origin[1]]\n",
    "    Z = [origin[2], origin[2], origin[2]]\n",
    "    U = [vectors[0][0], vectors[1][0], vectors[2][0]]\n",
    "    V = [vectors[0][1], vectors[1][1], vectors[2][1]]\n",
    "    W = [vectors[0][2], vectors[1][2], vectors[2][2]]\n",
    "    ax.quiver(X, Y, Z, U, V, W, color='blue')\n",
    "    # show the plot\n",
    "plt.show()"
   ]
  },
  {
   "cell_type": "markdown",
   "metadata": {},
   "source": [
    "# Histogram neighbor distance of Data COI"
   ]
  },
  {
   "cell_type": "code",
   "execution_count": null,
   "metadata": {},
   "outputs": [],
   "source": [
    "#Version bigger bins\n",
    "\n",
    "from sklearn.neighbors import KDTree\n",
    "from matplotlib.ticker import MultipleLocator, FormatStrFormatter\n",
    "\n",
    "b1 = 0.36\n",
    "b3 = 2.54\n",
    "\n",
    "\n",
    "# Use Latex\n",
    "plt.rc('text', usetex=True)\n",
    "plt.rc('font', family='serif')\n",
    "\n",
    "#find the nearest neighbor and its distance\n",
    "\n",
    "plotcoords = coord # int_coord\n",
    "\n",
    "kdt = KDTree(plotcoords, leaf_size=2, metric='euclidean') # int_coord\n",
    "d_distances, indices = kdt.query(plotcoords, k=len(plotcoords))\n",
    "\n",
    "# delete the nearest neighbor distance to itself\n",
    "d_distances = np.delete(d_distances.T, 0, 0).T\n",
    "\n",
    "fig, ax = plt.subplots(figsize=(20,10))\n",
    "plt.hist(d_distances.ravel(),bins=2000, facecolor='k')\n",
    "plt.xlabel(r'Reciprocal Neighbor Distances [$\\frac{1}{nm}$]', fontsize = 25)\n",
    "plt.ylabel('Occurrence', fontsize = 30)\n",
    "xtick = np.round(np.arange(0.0, 4, 0.2), decimals=1)\n",
    "labels = xtick\n",
    "# You can specify a rotation for the tick labels in degrees or with keywords.\n",
    "plt.xticks(xtick, labels, fontsize=15 )\n",
    "plt.yticks(fontsize=20 )\n",
    "plt.axis([0, 2.8, 0, 1300])\n",
    "plt.grid(True)\n",
    "plt.axvline(x=b1, color = \"r\", ls= \"dashed\", lw = \"2\")\n",
    "plt.axvline(x=np.sqrt(2)*b1, color = \"r\", ls= \"dashed\", lw = \"2\")\n",
    "plt.axvline(x=np.sqrt(5)*b1, color = \"r\", ls= \"dashed\", lw = \"2\")\n",
    "\n",
    "fs = 28\n",
    "plt.text(b1 -0.05, 1100, r\"$b \\textsubscript{1,2} $\" , fontsize=fs,  bbox=dict(boxstyle=\"Square,pad=0.21\", ec=\"r\", facecolor='white', alpha=1))\n",
    "plt.text(np.sqrt(2)*b1 -0.1, 800, r\"$\\sqrt{2} \\hspace{0.1cm}  b\\textsubscript{1,2} $\" , fontsize=fs,  bbox=dict(boxstyle=\"Square,pad=0.21\", ec=\"r\", facecolor='white', alpha=1))\n",
    "plt.text(np.sqrt(5)*b1 -0.09, 1150, r\"$\\sqrt{5} \\hspace{0.1cm}   b\\textsubscript{1,2} $\" , fontsize=fs,  bbox=dict(boxstyle=\"Square,pad=0.21\", ec=\"r\", facecolor='white', alpha=1))\n",
    "plt.text(b3 -0.1, 1100, r\"$b \\textsubscript{3} $\" , fontsize=fs,  bbox=dict(boxstyle=\"Square,pad=0.25\", ec=\"r\", facecolor='white', alpha=1))\n",
    "\n",
    "\n",
    "\n",
    "\n",
    "plt.axvline(x=b3, color = \"r\", ls= \"dashed\", lw = \"2\")\n",
    "minorLocator = MultipleLocator(5)\n",
    "\n",
    "ax.xaxis.set_minor_locator(minorLocator)\n",
    "plt.show()"
   ]
  },
  {
   "cell_type": "markdown",
   "metadata": {},
   "source": [
    "# Histogram neighbor distance of Simulation COI"
   ]
  },
  {
   "cell_type": "code",
   "execution_count": 12,
   "metadata": {},
   "outputs": [],
   "source": []
  },
  {
   "cell_type": "code",
   "execution_count": null,
   "metadata": {},
   "outputs": [],
   "source": [
    "from sklearn.neighbors import KDTree\n",
    "from matplotlib.ticker import MultipleLocator, FormatStrFormatter\n",
    "\n",
    "b1 = 0.36\n",
    "b3 = 2.54\n",
    "\n",
    "\n",
    "# import int_coord\n",
    "int_coord= np.loadtxt(\"int_coord.txt\")\n",
    "\n",
    "\n",
    "# Use Latex\n",
    "plt.rc('text', usetex=True)\n",
    "plt.rc('font', family='serif')\n",
    "\n",
    "#find the nearest neighbor and its distance\n",
    "\n",
    "plotcoords = int_coord\n",
    "\n",
    "kdt = KDTree(plotcoords, leaf_size=2, metric='euclidean') # int_coord\n",
    "sim_distances, indices = kdt.query(plotcoords, k=len(plotcoords))\n",
    "\n",
    "# delete the nearest neighbor distance to itself\n",
    "sim_distances = np.delete(sim_distances.T, 0, 0).T\n",
    "\n",
    "fig, ax = plt.subplots(figsize=(20,10))\n",
    "plt.hist(sim_distances.ravel(),bins=2000, facecolor='k')\n",
    "plt.xlabel(r'Reciprocal Neighbor Distances [$\\frac{1}{nm}$]', fontsize = 25)\n",
    "plt.ylabel('Occurrence', fontsize = 30)\n",
    "xtick = np.round(np.arange(0.0, 4, 0.2), decimals=1)\n",
    "labels = xtick\n",
    "# You can specify a rotation for the tick labels in degrees or with keywords.\n",
    "plt.xticks(xtick, labels, fontsize=15 )\n",
    "plt.yticks(fontsize=20 )\n",
    "plt.axis([0, 2.8, 0, 3000])\n",
    "plt.grid(True)\n",
    "plt.axvline(x=b1, color = \"r\", ls= \"dashed\", lw = \"2\")\n",
    "plt.axvline(x=np.sqrt(2)*b1, color = \"r\", ls= \"dashed\", lw = \"2\")\n",
    "plt.axvline(x=np.sqrt(5)*b1, color = \"r\", ls= \"dashed\", lw = \"2\")\n",
    "\n",
    "fs = 30\n",
    "plt.text(b1 -0.1, 2700, r\"$b \\textsubscript{1,2} $\" , fontsize=fs,  bbox=dict(boxstyle=\"Square,pad=0.21\", ec=\"r\", facecolor='white', alpha=1))\n",
    "plt.text(np.sqrt(2)*b1 -0.1, 2200, r\"$\\sqrt{2} \\hspace{0.1cm}  b\\textsubscript{1,2} $\" , fontsize=fs,  bbox=dict(boxstyle=\"Square,pad=0.21\", ec=\"r\", facecolor='white', alpha=1))\n",
    "plt.text(np.sqrt(5)*b1 -0.09, 1700, r\"$\\sqrt{5} \\hspace{0.1cm}  b\\textsubscript{1,2} $\" , fontsize=fs,  bbox=dict(boxstyle=\"Square,pad=0.21\", ec=\"r\", facecolor='white', alpha=1))\n",
    "plt.text(b3 -0.04, 2600, r\"$b \\textsubscript{3} $\" , fontsize=fs,  bbox=dict(boxstyle=\"Square,pad=0.25\", ec=\"r\", facecolor='white', alpha=1))\n",
    "\n",
    "\n",
    "\n",
    "\n",
    "plt.axvline(x=b3, color = \"r\", ls= \"dashed\", lw = \"2\")\n",
    "minorLocator = MultipleLocator(5)\n",
    "\n",
    "ax.xaxis.set_minor_locator(minorLocator)\n",
    "plt.show()\n"
   ]
  },
  {
   "cell_type": "code",
   "execution_count": null,
   "metadata": {},
   "outputs": [],
   "source": []
  },
  {
   "cell_type": "markdown",
   "metadata": {},
   "source": [
    "# Angles of nearest neighbor"
   ]
  },
  {
   "cell_type": "code",
   "execution_count": 28,
   "metadata": {},
   "outputs": [
    {
     "name": "stderr",
     "output_type": "stream",
     "text": [
      "100%|██████████| 851/851 [00:01<00:00, 736.48it/s]\n"
     ]
    }
   ],
   "source": [
    "from tqdm import tqdm\n",
    "from sklearn.neighbors import KDTree\n",
    "from matplotlib.ticker import MultipleLocator, FormatStrFormatter\n",
    "\n",
    "# import int_coord\n",
    "int_coord= np.loadtxt(\"int_coord.txt\")\n",
    "\n",
    "#save int_coord\n",
    "#np.savetxt(\"int_coord.txt\", int_coord)\n",
    "\n",
    "\n",
    "kdt = KDTree(int_coord, leaf_size=2, metric='euclidean') # int_coord\n",
    "distances, indices = kdt.query(int_coord, k=len(int_coord))\n",
    "\n",
    "# init\n",
    "sort_coor = np.zeros([indices.shape[0],indices.shape[1],3])\n",
    "diff_vec = np.zeros([indices.shape[0],indices.shape[1],3])\n",
    "\n",
    "for z in range(distances.shape[0]) :\n",
    "    for s in range(distances.shape[1]):\n",
    "        #sorted coords\n",
    "        sort_coor[z,s] = int_coord[indices[z,s]]\n",
    "        diff_vec[z,s] = sort_coor[z,0] - sort_coor[z,s]\n",
    "        \n",
    "\n",
    "\n",
    "\n",
    "\n",
    "ang = list()\n",
    "\n",
    "for j in tqdm(range(diff_vec.shape[0])):\n",
    "\n",
    "    diff_vec_nearest = diff_vec[j,2:22]\n",
    "    sort_coor_nearest = sort_coor[j,2:22]\n",
    "    for i in range(diff_vec_nearest.shape[0]):\n",
    "            angt = angle_between(diff_vec_nearest[0],diff_vec_nearest[i])\n",
    "            if not angt == 0:\n",
    "                ang.append(angt)\n",
    "                \n",
    "angdeg = np.array(ang)*180/np.pi\n",
    "\n",
    "\n",
    "\n"
   ]
  },
  {
   "cell_type": "code",
   "execution_count": 6,
   "metadata": {},
   "outputs": [
    {
     "data": {
      "text/plain": [
       "Text(2.32619,600,'$ \\\\frac{3 \\\\hspace{0.1cm} \\\\pi}{4} $')"
      ]
     },
     "execution_count": 6,
     "metadata": {},
     "output_type": "execute_result"
    }
   ],
   "source": [
    "\n",
    "\n",
    "fig, ax = plt.subplots(figsize=(20,10))\n",
    "plt.hist(ang ,bins=200, facecolor='k')\n",
    "plt.xlabel(r'Nearest Neighbor Angles', fontsize = 25)\n",
    "plt.ylabel('Occurrence', fontsize = 25)\n",
    "xtick = np.round(np.arange(0.0, np.pi , np.pi/4 ), decimals=2)\n",
    "labels = xtick\n",
    "# You can specify a rotation for the tick labels in degrees or with keywords.\n",
    "plt.xticks(xtick, labels, fontsize=18 )\n",
    "plt.yticks(fontsize=18 )\n",
    "plt.axis([0, np.pi, 0, 1300])\n",
    "#plt.grid(True)\n",
    "plt.axvline(x=np.pi/4, color = \"r\", ls= \"dashed\", lw = \"2\")\n",
    "plt.axvline(x=np.pi/2, color = \"r\", ls= \"dashed\", lw = \"2\")\n",
    "plt.axvline(x=np.pi*3/4, color = \"r\", ls= \"dashed\", lw = \"2\")\n",
    "\n",
    "fs = 35\n",
    "plt.text(np.pi/4 - 0.03, 600, r\"$ \\frac{\\pi}{4}$\" , fontsize=fs,  bbox=dict(boxstyle=\"Square,pad=0.3\", ec=\"r\", facecolor='white', alpha=1))\n",
    "plt.text(np.pi/2- 0.03, 600, r\"$ \\frac{\\pi}{2} $\" , fontsize=fs,  bbox=dict(boxstyle=\"Square,pad=0.3\", ec=\"r\", facecolor='white', alpha=1))\n",
    "plt.text(np.pi*3/4 - 0.03, 600, r\"$ \\frac{3 \\hspace{0.1cm} \\pi}{4} $\" , fontsize=fs,  bbox=dict(boxstyle=\"Square,pad=0.3\", ec=\"r\", facecolor='white', alpha=1))\n",
    "#plt.text(b3 -0.1, 1100, r\"$b \\textsubscript{3} $\" , fontsize=fs,  bbox=dict(boxstyle=\"Square,pad=0.25\", ec=\"r\", facecolor='white', alpha=1))\n",
    "\n",
    "\n"
   ]
  },
  {
   "cell_type": "markdown",
   "metadata": {},
   "source": [
    "# Volume of basis-cell with triple product (slow)"
   ]
  },
  {
   "cell_type": "code",
   "execution_count": 17,
   "metadata": {},
   "outputs": [
    {
     "data": {
      "application/vnd.jupyter.widget-view+json": {
       "model_id": "8aeb08441d1344cdbac2e8504e06e64c",
       "version_major": 2,
       "version_minor": 0
      },
      "text/plain": [
       "HBox(children=(IntProgress(value=0, max=8), HTML(value='')))"
      ]
     },
     "metadata": {},
     "output_type": "display_data"
    }
   ],
   "source": [
    "basis1 = np.loadtxt(\"basis1.txt\")\n",
    "basis2 = np.loadtxt(\"basis2.txt\")\n",
    "basis3 = np.loadtxt(\"basis3.txt\")\n",
    "\n",
    "new_basis = list()\n",
    "\n",
    "linrange = 10\n",
    "\n",
    "for i in range(-linrange,linrange):\n",
    "    for j in range(-linrange,linrange):\n",
    "        for k in range(-linrange,linrange):\n",
    "            \n",
    "            new_basis_temp = i*basis1 + j*basis2 + k*basis3\n",
    "            new_basis.append(new_basis_temp)\n",
    "            \n",
    "def tripleproduct(a,b,c):\n",
    "    t=0\n",
    "    t=\\\n",
    "    a[0]*(b[1]*c[2]-b[2]*c[1])+\\\n",
    "    a[1]*(b[2]*c[0]-b[0]*c[2])+\\\n",
    "    a[2]*(b[0]*c[1]-b[1]*c[0])  # 14 operations / det\n",
    "    return t\n",
    "\n",
    "lin_combi_vol = list()\n",
    "lin_combi_indi = list()\n",
    "lin_combi_ang = list()\n",
    "\n",
    "\n",
    "for i in tqdm_notebook(range(len(new_basis))):\n",
    "    for j in range(len(new_basis)):\n",
    "        for k in range(len(new_basis)):\n",
    "            \n",
    "            if i!=j or i!=k or j!=k:\n",
    "                # test if angle between vectors greater than angborder\n",
    "                angborder = 0.3\n",
    "\n",
    "                new_basis1 = new_basis[i]\n",
    "                new_basis2 = new_basis[j]\n",
    "                new_basis3 = new_basis[k]\n",
    "\n",
    "                #ang1 = np.abs(angle_between(new_basis1,new_basis2))\n",
    "                #ang2 = np.abs(angle_between(new_basis1,new_basis3))\n",
    "                #ang3 = np.abs(angle_between(new_basis2,new_basis3))\n",
    "\n",
    "\n",
    "\n",
    "                #if ang1 > angborder and ang2 > angborder and ang3 > angborder:\n",
    "                    \n",
    "                   \n",
    "                lin_combi_vol_temp = tripleproduct(new_basis1,new_basis2,new_basis3)\n",
    "                lin_combi_indi.append([i,j,k])\n",
    "                #lin_combi_ang.append([ang1, ang2, ang3])\n",
    "                lin_combi_vol.append(lin_combi_vol_temp)\n",
    "                \n",
    "# find indices of smallest non-zero basis-cell-volume\n",
    "lin_combi_vol_abs = np.abs(lin_combi_vol)\n"
   ]
  },
  {
   "cell_type": "code",
   "execution_count": 19,
   "metadata": {},
   "outputs": [
    {
     "data": {
      "text/plain": [
       "504"
      ]
     },
     "execution_count": 19,
     "metadata": {},
     "output_type": "execute_result"
    }
   ],
   "source": []
  },
  {
   "cell_type": "code",
   "execution_count": null,
   "metadata": {},
   "outputs": [],
   "source": [
    "\n",
    "for i in range(len(lin_combi_vol_abs)):\n",
    "    if lin_combi_vol_abs[i] \n"
   ]
  },
  {
   "cell_type": "code",
   "execution_count": 18,
   "metadata": {},
   "outputs": [
    {
     "data": {
      "text/plain": [
       "(504,)"
      ]
     },
     "execution_count": 18,
     "metadata": {},
     "output_type": "execute_result"
    }
   ],
   "source": [
    "np.array(lin_combi_vol).shape"
   ]
  },
  {
   "cell_type": "code",
   "execution_count": 10,
   "metadata": {},
   "outputs": [],
   "source": [
    "\n",
    "                \n",
    "# basis_cell volume bigger than volborder\n",
    "lin_combi_vol_abs_nonzero = lin_combi_vol_abs[lin_combi_vol_abs > volborder]\n",
    "\n",
    "lin_indi_coord_diff = list()\n",
    "\n",
    "lin_combi_vol_sort = np.argsort(lin_combi_vol_abs_nonzero)\n",
    "\n",
    "# test if coordinate difference is bigger than dnbborder\n",
    "dnbborder = 0.3"
   ]
  },
  {
   "cell_type": "code",
   "execution_count": 11,
   "metadata": {},
   "outputs": [
    {
     "data": {
      "application/vnd.jupyter.widget-view+json": {
       "model_id": "d205388fdc8f4bef98f7183314d7fa6e",
       "version_major": 2,
       "version_minor": 0
      },
      "text/plain": [
       "HBox(children=(IntProgress(value=0, max=208074), HTML(value='')))"
      ]
     },
     "metadata": {},
     "output_type": "display_data"
    },
    {
     "ename": "KeyboardInterrupt",
     "evalue": "",
     "output_type": "error",
     "traceback": [
      "\u001b[0;31m---------------------------------------------------------------------------\u001b[0m",
      "\u001b[0;31mKeyboardInterrupt\u001b[0m                         Traceback (most recent call last)",
      "\u001b[0;32m<ipython-input-11-d9cea242eaf6>\u001b[0m in \u001b[0;36m<module>\u001b[0;34m()\u001b[0m\n\u001b[1;32m      4\u001b[0m \u001b[0;34m\u001b[0m\u001b[0m\n\u001b[1;32m      5\u001b[0m     \u001b[0mlin_combi_min\u001b[0m \u001b[0;34m=\u001b[0m \u001b[0mlin_combi_vol_abs_nonzero\u001b[0m\u001b[0;34m[\u001b[0m\u001b[0mlin_combi_vol_sort\u001b[0m\u001b[0;34m[\u001b[0m\u001b[0mi\u001b[0m\u001b[0;34m]\u001b[0m\u001b[0;34m]\u001b[0m\u001b[0;34m\u001b[0m\u001b[0m\n\u001b[0;32m----> 6\u001b[0;31m     \u001b[0mlin_combi_min_indi\u001b[0m \u001b[0;34m=\u001b[0m \u001b[0mnp\u001b[0m\u001b[0;34m.\u001b[0m\u001b[0marray\u001b[0m\u001b[0;34m(\u001b[0m\u001b[0mlin_combi_indi\u001b[0m\u001b[0;34m)\u001b[0m\u001b[0;34m[\u001b[0m\u001b[0mlin_combi_vol_abs\u001b[0m \u001b[0;34m==\u001b[0m \u001b[0mlin_combi_min\u001b[0m\u001b[0;34m]\u001b[0m\u001b[0;34m\u001b[0m\u001b[0m\n\u001b[0m\u001b[1;32m      7\u001b[0m \u001b[0;34m\u001b[0m\u001b[0m\n\u001b[1;32m      8\u001b[0m \u001b[0;34m\u001b[0m\u001b[0m\n",
      "\u001b[0;31mKeyboardInterrupt\u001b[0m: "
     ]
    }
   ],
   "source": [
    "\n",
    "\n",
    "for i in tqdm_notebook(range(len(lin_combi_vol_abs_nonzero))):\n",
    "\n",
    "    lin_combi_min = lin_combi_vol_abs_nonzero[lin_combi_vol_sort[i]]\n",
    "    lin_combi_min_indi = np.array(lin_combi_indi)[lin_combi_vol_abs == lin_combi_min]\n",
    "    \n",
    "\n",
    "    # test if coordinates are similar to each other\n",
    "    new_basis1 = new_basis[lin_combi_min_indi[0,0]]\n",
    "    new_basis2 = new_basis[lin_combi_min_indi[0,1]]\n",
    "    new_basis3 = new_basis[lin_combi_min_indi[0,2]]\n",
    "\n",
    "    # x-coordinates\n",
    "    dnbx1 = np.abs(new_basis1[0]-new_basis2[0])\n",
    "    dnbx2 = np.abs(new_basis1[0]-new_basis3[0])\n",
    "\n",
    "    # y-coordinates\n",
    "    dnby1 = np.abs(new_basis1[1]-new_basis2[1])\n",
    "    dnby2 = np.abs(new_basis1[1]-new_basis3[1])\n",
    "\n",
    "    # z-coordinates\n",
    "    dnbz1 = np.abs(new_basis1[2]-new_basis2[2])\n",
    "    dnbz2 = np.abs(new_basis1[2]-new_basis3[2])\n",
    " \n",
    "    if dnbx1 > dnbborder or dnbx2 > dnbborder:\n",
    "        if dnby1 > dnbborder or dnby2 > dnbborder:\n",
    "            if dnbz1 > dnbborder or dnbz2 > dnbborder:\n",
    "                lin_indi_coord_diff.append(list(lin_combi_min_indi[0]))\n",
    "        "
   ]
  },
  {
   "cell_type": "code",
   "execution_count": 268,
   "metadata": {},
   "outputs": [
    {
     "data": {
      "text/plain": [
       "[]"
      ]
     },
     "execution_count": 268,
     "metadata": {},
     "output_type": "execute_result"
    }
   ],
   "source": [
    "lin_indi_coord_diff\n",
    "    \n",
    "    \n",
    "    "
   ]
  },
  {
   "cell_type": "code",
   "execution_count": 236,
   "metadata": {},
   "outputs": [
    {
     "data": {
      "text/plain": [
       "[]"
      ]
     },
     "execution_count": 236,
     "metadata": {},
     "output_type": "execute_result"
    }
   ],
   "source": [
    "lin_indi_coord_diff"
   ]
  },
  {
   "cell_type": "code",
   "execution_count": 224,
   "metadata": {},
   "outputs": [],
   "source": [
    "lin_indi_coord_diff.append(list(lin_combi_min_indi[0]))"
   ]
  },
  {
   "cell_type": "code",
   "execution_count": 225,
   "metadata": {},
   "outputs": [
    {
     "data": {
      "text/plain": [
       "[[0, 6, 62], [0, 6, 62]]"
      ]
     },
     "execution_count": 225,
     "metadata": {},
     "output_type": "execute_result"
    }
   ],
   "source": [
    "lin_indi_coord_diff"
   ]
  },
  {
   "cell_type": "code",
   "execution_count": 203,
   "metadata": {},
   "outputs": [],
   "source": []
  },
  {
   "cell_type": "code",
   "execution_count": 204,
   "metadata": {},
   "outputs": [
    {
     "data": {
      "text/plain": [
       "-0.007394737967465356"
      ]
     },
     "execution_count": 204,
     "metadata": {},
     "output_type": "execute_result"
    }
   ],
   "source": [
    "dnbx1"
   ]
  },
  {
   "cell_type": "code",
   "execution_count": 200,
   "metadata": {},
   "outputs": [
    {
     "data": {
      "text/plain": [
       "-4.7465374299908785"
      ]
     },
     "execution_count": 200,
     "metadata": {},
     "output_type": "execute_result"
    }
   ],
   "source": [
    "new_basis1[1]-new_basis2[1]"
   ]
  },
  {
   "cell_type": "code",
   "execution_count": 201,
   "metadata": {},
   "outputs": [
    {
     "data": {
      "text/plain": [
       "-5.975678767956548"
      ]
     },
     "execution_count": 201,
     "metadata": {},
     "output_type": "execute_result"
    }
   ],
   "source": [
    "new_basis1[1]-new_basis3[1]"
   ]
  },
  {
   "cell_type": "code",
   "execution_count": 89,
   "metadata": {},
   "outputs": [],
   "source": [
    "lin_combi_min_angles = np.array(lin_combi_ang)[lin_combi_vol_abs == lin_combi_vol_min]\n",
    "lin_combi_min_indi = np.array(lin_combi_indi)[lin_combi_vol_abs == lin_combi_vol_min]"
   ]
  },
  {
   "cell_type": "code",
   "execution_count": 90,
   "metadata": {},
   "outputs": [
    {
     "data": {
      "text/plain": [
       "array([[56,  1,  7],\n",
       "       [56,  7,  1]])"
      ]
     },
     "execution_count": 90,
     "metadata": {},
     "output_type": "execute_result"
    }
   ],
   "source": [
    "lin_combi_min_indi"
   ]
  },
  {
   "cell_type": "code",
   "execution_count": 177,
   "metadata": {},
   "outputs": [],
   "source": [
    "new_basis1 = new_basis[56]\n",
    "new_basis2 = new_basis[1]\n",
    "new_basis3 = new_basis[7]"
   ]
  },
  {
   "cell_type": "code",
   "execution_count": 182,
   "metadata": {},
   "outputs": [
    {
     "data": {
      "text/plain": [
       "array([ 0.05821497, -3.68009936, -3.75735177])"
      ]
     },
     "execution_count": 182,
     "metadata": {},
     "output_type": "execute_result"
    }
   ],
   "source": [
    "new_basis1"
   ]
  },
  {
   "cell_type": "code",
   "execution_count": 179,
   "metadata": {},
   "outputs": [
    {
     "data": {
      "text/plain": [
       "array([-0.10728108, -3.52105842, -7.74721809])"
      ]
     },
     "execution_count": 179,
     "metadata": {},
     "output_type": "execute_result"
    }
   ],
   "source": [
    "new_basis2"
   ]
  },
  {
   "cell_type": "code",
   "execution_count": 180,
   "metadata": {},
   "outputs": [
    {
     "data": {
      "text/plain": [
       "array([-0.09988635,  1.22547901, -1.28128081])"
      ]
     },
     "execution_count": 180,
     "metadata": {},
     "output_type": "execute_result"
    }
   ],
   "source": [
    "new_basis3"
   ]
  },
  {
   "cell_type": "code",
   "execution_count": 94,
   "metadata": {},
   "outputs": [],
   "source": [
    "def cart2sph(x, y, z):\n",
    "    hxy = np.hypot(x, y)\n",
    "    r = np.hypot(hxy, z)\n",
    "    el = np.arctan2(z, hxy)\n",
    "    az = np.arctan2(y, x)\n",
    "    return az, el, r"
   ]
  },
  {
   "cell_type": "code",
   "execution_count": 99,
   "metadata": {},
   "outputs": [
    {
     "data": {
      "text/plain": [
       "(-1.55497878662772, -0.7957221988579319, 5.25967799952975)"
      ]
     },
     "execution_count": 99,
     "metadata": {},
     "output_type": "execute_result"
    }
   ],
   "source": [
    "cart2sph(new_basis1[0],new_basis1[1],new_basis1[2])"
   ]
  },
  {
   "cell_type": "code",
   "execution_count": 101,
   "metadata": {},
   "outputs": [
    {
     "data": {
      "text/plain": [
       "(-1.6012553230147972, -1.1440373023036117, 8.510508193141156)"
      ]
     },
     "execution_count": 101,
     "metadata": {},
     "output_type": "execute_result"
    }
   ],
   "source": [
    "cart2sph(new_basis2[0],new_basis2[1],new_basis2[2])"
   ]
  },
  {
   "cell_type": "code",
   "execution_count": 100,
   "metadata": {},
   "outputs": [
    {
     "data": {
      "text/plain": [
       "(1.652124543914163, -0.806001139443553, 1.7757974544458028)"
      ]
     },
     "execution_count": 100,
     "metadata": {},
     "output_type": "execute_result"
    }
   ],
   "source": [
    "cart2sph(new_basis3[0],new_basis3[1],new_basis3[2])"
   ]
  },
  {
   "cell_type": "code",
   "execution_count": 109,
   "metadata": {},
   "outputs": [
    {
     "data": {
      "text/plain": [
       "(0.7853981633974483, 0.6154797086703873, 1.7320508075688774)"
      ]
     },
     "execution_count": 109,
     "metadata": {},
     "output_type": "execute_result"
    }
   ],
   "source": [
    "cart2sph(1,1,1)"
   ]
  },
  {
   "cell_type": "code",
   "execution_count": 110,
   "metadata": {},
   "outputs": [
    {
     "data": {
      "text/plain": [
       "(0.982793723247329, 0.5064446434135005, 2.0615528128088303)"
      ]
     },
     "execution_count": 110,
     "metadata": {},
     "output_type": "execute_result"
    }
   ],
   "source": [
    "cart2sph(1,1.5,1)"
   ]
  },
  {
   "cell_type": "code",
   "execution_count": 105,
   "metadata": {},
   "outputs": [
    {
     "data": {
      "text/plain": [
       "(0.5880026035475675, 0.0, 3.605551275463989)"
      ]
     },
     "execution_count": 105,
     "metadata": {},
     "output_type": "execute_result"
    }
   ],
   "source": [
    "cart2sph(3,2,0)"
   ]
  },
  {
   "cell_type": "code",
   "execution_count": 120,
   "metadata": {},
   "outputs": [
    {
     "data": {
      "text/plain": [
       "array([0.86651312])"
      ]
     },
     "execution_count": 120,
     "metadata": {},
     "output_type": "execute_result"
    }
   ],
   "source": [
    "lin_combi_vol_abs[np.argsort(lin_combi_vol_abs) == 0]"
   ]
  },
  {
   "cell_type": "code",
   "execution_count": 92,
   "metadata": {},
   "outputs": [],
   "source": [
    "from mpl_toolkits.mplot3d import Axes3D  # noqa: F401 unused import\n",
    "\n",
    "import matplotlib.pyplot as plt\n",
    "import numpy as np\n",
    "\n",
    "fig = plt.figure()\n",
    "ax = fig.gca(projection='3d')\n",
    "\n",
    "ax.quiver(0, 0, 0, new_basis1, new_basis2, new_basis3, length=0.1, normalize=True)\n",
    "\n",
    "plt.show()"
   ]
  },
  {
   "cell_type": "code",
   "execution_count": 133,
   "metadata": {},
   "outputs": [
    {
     "data": {
      "text/plain": [
       "14.32916602016006"
      ]
     },
     "execution_count": 133,
     "metadata": {},
     "output_type": "execute_result"
    }
   ],
   "source": [
    "np.linalg.norm(new_basis3)"
   ]
  },
  {
   "cell_type": "code",
   "execution_count": 154,
   "metadata": {},
   "outputs": [],
   "source": [
    "lin_cross = np.cross(np.array(new_basis1),np.array(new_basis2))\n",
    "lin_combi_vol_temp = np.dot(np.array(new_basis3),lin_cross)"
   ]
  },
  {
   "cell_type": "code",
   "execution_count": 155,
   "metadata": {},
   "outputs": [
    {
     "data": {
      "text/plain": [
       "0.2888377071501367"
      ]
     },
     "execution_count": 155,
     "metadata": {},
     "output_type": "execute_result"
    }
   ],
   "source": [
    "lin_combi_vol_temp"
   ]
  },
  {
   "cell_type": "code",
   "execution_count": 156,
   "metadata": {},
   "outputs": [],
   "source": [
    "test1 = [0.36,0,0]\n",
    "test2 = [0,0.36,0]\n",
    "test3 = [0,0,2.54]\n"
   ]
  },
  {
   "cell_type": "code",
   "execution_count": 157,
   "metadata": {},
   "outputs": [],
   "source": [
    "lin_cross = np.cross(np.array(test1),np.array(test2))\n",
    "lin_combi_vol_temp = np.dot(np.array(test3),lin_cross)"
   ]
  },
  {
   "cell_type": "code",
   "execution_count": null,
   "metadata": {},
   "outputs": [],
   "source": []
  },
  {
   "cell_type": "code",
   "execution_count": 158,
   "metadata": {},
   "outputs": [
    {
     "data": {
      "text/plain": [
       "0.329184"
      ]
     },
     "execution_count": 158,
     "metadata": {},
     "output_type": "execute_result"
    }
   ],
   "source": [
    "lin_combi_vol_temp"
   ]
  },
  {
   "cell_type": "code",
   "execution_count": 66,
   "metadata": {},
   "outputs": [],
   "source": [
    "'''\n",
    "==============\n",
    "3D scatterplot\n",
    "==============\n",
    "\n",
    "Demonstration of a basic scatterplot in 3D.\n",
    "'''\n",
    "\n",
    "from mpl_toolkits.mplot3d import Axes3D\n",
    "import matplotlib.pyplot as plt\n",
    "import numpy as np\n",
    "\n",
    "\n",
    "fig = plt.figure()\n",
    "ax = fig.add_subplot(111, projection='3d')\n",
    "\n",
    "\n",
    "# For each set of style and range settings, plot n random points in the box\n",
    "# defined by x in [23, 32], y in [0, 100], z in [zlow, zhigh].\n",
    "ax.scatter(sort_coor_nearest.T[0],sort_coor_nearest.T[1],sort_coor_nearest.T[2])\n",
    "\n",
    "ax.set_xlim([-0.2,0.4])\n",
    "ax.set_ylim([0.1,-0.5])\n",
    "\n",
    "ax.set_xlabel('X Label')\n",
    "ax.set_ylabel('Y Label')\n",
    "ax.set_zlabel('Z Label')\n",
    "\n",
    "plt.show()\n"
   ]
  },
  {
   "cell_type": "code",
   "execution_count": null,
   "metadata": {},
   "outputs": [],
   "source": []
  },
  {
   "cell_type": "code",
   "execution_count": 65,
   "metadata": {},
   "outputs": [
    {
     "data": {
      "text/plain": [
       "array([[-0.24876506,  0.09913626,  6.88072501],\n",
       "       [-0.15921701, -0.22260796,  7.25926345],\n",
       "       [ 0.00954081,  0.0376384 ,  7.11359794],\n",
       "       [-0.32797483, -0.48285431,  7.40492895],\n",
       "       [-0.32797483, -0.48285431,  7.40492895],\n",
       "       [-0.08000725,  0.35938262,  6.73505951]])"
      ]
     },
     "execution_count": 65,
     "metadata": {},
     "output_type": "execute_result"
    }
   ],
   "source": [
    "sort_coor_nearest"
   ]
  },
  {
   "cell_type": "code",
   "execution_count": null,
   "metadata": {},
   "outputs": [],
   "source": [
    "from tqdm import tqdm\n",
    "from sklearn.neighbors import KDTree\n",
    "from matplotlib.ticker import MultipleLocator, FormatStrFormatter\n",
    "\n",
    "# import int_coord\n",
    "int_coord= np.loadtxt(\"int_coord.txt\")\n",
    "\n",
    "#save int_coord\n",
    "#np.savetxt(\"int_coord.txt\", int_coord)\n",
    "\n",
    "\n",
    "kdt = KDTree(int_coord, leaf_size=2, metric='euclidean') # int_coord\n",
    "distances, indices = kdt.query(int_coord, k=len(int_coord))\n",
    "\n",
    "# init\n",
    "sort_coor = np.zeros([indices.shape[0],indices.shape[1],3])\n",
    "diff_vec = np.zeros([indices.shape[0],indices.shape[1],3])\n",
    "\n",
    "for z in range(distances.shape[0]) :\n",
    "    for s in range(distances.shape[1]):\n",
    "        #sorted coords\n",
    "        sort_coor[z,s] = int_coord[indices[z,s]]\n",
    "        diff_vec[z,s] = sort_coor[z,0] - sort_coor[z,s]\n",
    "        \n",
    "ang = list()\n",
    "for i in tqdm(range(len(diff_vec[0]))):\n",
    "    for j in range(len(diff_vec[0])):\n",
    "        angt = angle_between(diff_vec[0,i],diff_vec[0,j])\n",
    "        if not angt == 0:\n",
    "            ang.append(angt)\n",
    "\n",
    "#save ang\n",
    "np.savetxt(\"ang.txt\", ang)\n",
    "\n",
    "fig, ax = plt.subplots(figsize=(20,10))\n",
    "plt.hist(ang,bins=200, facecolor='k')\n",
    "plt.show()"
   ]
  },
  {
   "cell_type": "markdown",
   "metadata": {},
   "source": [
    "# angle between all nearest neighbors der reihe nach"
   ]
  },
  {
   "cell_type": "code",
   "execution_count": 119,
   "metadata": {},
   "outputs": [],
   "source": [
    "# import int_coord\n",
    "int_coord= np.loadtxt(\"int_coord.txt\")\n",
    "\n",
    "from tqdm import tqdm\n",
    "from sklearn.neighbors import KDTree\n",
    "from matplotlib.ticker import MultipleLocator, FormatStrFormatter\n",
    "\n",
    "kdt = KDTree(int_coord, leaf_size=2, metric='euclidean') # int_coord\n",
    "a_distances, a_indices = kdt.query(int_coord, k=len(int_coord))\n",
    "\n",
    "# distances and indices of nearest neighbors of one point p \n",
    "\n",
    "############################### test #################\n",
    "p = 40\n",
    "\n",
    "p_distances = a_distances[p,0:10]\n",
    "p_indices = a_indices[p,0:10]\n",
    "\n",
    "\n",
    "# initialise \n",
    "sort_coor = np.zeros([p_indices.shape[0],3])\n",
    "\n",
    "\n",
    "for i in range(p_indices.shape[0]) :\n",
    "    sort_coor[i] = int_coord[p_indices[i]]\n",
    "    \n",
    "diff_vec = sort_coor"
   ]
  },
  {
   "cell_type": "code",
   "execution_count": 115,
   "metadata": {},
   "outputs": [],
   "source": [
    "for i in range(sort_coor.shape[0]) :\n",
    "    diff_vec[i] = sort_coor[0] - sort_coor[i]"
   ]
  },
  {
   "cell_type": "code",
   "execution_count": 105,
   "metadata": {},
   "outputs": [
    {
     "data": {
      "text/plain": [
       "array([-0.16875782, -0.26024636,  0.1456655 ])"
      ]
     },
     "execution_count": 105,
     "metadata": {},
     "output_type": "execute_result"
    }
   ],
   "source": [
    "sort_coor[0] - sort_coor[1]"
   ]
  },
  {
   "cell_type": "code",
   "execution_count": 85,
   "metadata": {},
   "outputs": [
    {
     "name": "stderr",
     "output_type": "stream",
     "text": [
      "100%|██████████| 10/10 [00:00<00:00, 1665.40it/s]\n"
     ]
    }
   ],
   "source": [
    "ang = list()\n",
    "for i in tqdm(range(len(diff_vec))):\n",
    "    for j in range(len(diff_vec)):\n",
    "        angt = angle_between(diff_vec[i],diff_vec[j])\n",
    "        if not angt == 0:\n",
    "            ang.append(angt)\n",
    "\n",
    "\n",
    "#save ang\n",
    "np.savetxt(\"ang.txt\", ang)\n",
    "\n",
    "fig, ax = plt.subplots(figsize=(20,10))\n",
    "plt.hist(ang,bins=200, facecolor='k')\n",
    "plt.show()\n",
    "\n",
    "\n"
   ]
  },
  {
   "cell_type": "code",
   "execution_count": 47,
   "metadata": {},
   "outputs": [],
   "source": [
    "fig = plt.figure()\n",
    "ax = fig.add_subplot(111, projection='3d')\n",
    "\n",
    "\n",
    "# For each set of style and range settings, plot n random points in the box\n",
    "# defined by x in [23, 32], y in [0, 100], z in [zlow, zhigh].\n",
    "ax.scatter(sort_coor.T[0],sort_coor.T[1],sort_coor.T[2])\n",
    "\n",
    "ax.axes\n",
    "\n",
    "ax.set_xlabel('X Label')\n",
    "ax.set_ylabel('Y Label')\n",
    "ax.set_zlabel('Z Label')\n",
    "\n",
    "plt.show()\n"
   ]
  },
  {
   "cell_type": "code",
   "execution_count": 77,
   "metadata": {},
   "outputs": [],
   "source": [
    "p_distances = distances[5,0:20]\n",
    "plt.plot(list(range(0, 20)), p_distances, 'ro')\n",
    "plt.axis([0, 20, 0, p_distances.max()])\n",
    "plt.show()"
   ]
  },
  {
   "cell_type": "code",
   "execution_count": 72,
   "metadata": {},
   "outputs": [],
   "source": [
    "for i in range(10):\n",
    "    p_distances = distances[i,0:20]\n",
    "    plt.plot(list(range(0, 20)), p_distances, 'ro')\n",
    "    plt.axis([0, 20, 0, p_distances.max()])\n",
    "    plt.show()"
   ]
  },
  {
   "cell_type": "markdown",
   "metadata": {},
   "source": [
    "# Angle between smallest Basis vectors of simulation"
   ]
  },
  {
   "cell_type": "code",
   "execution_count": 123,
   "metadata": {},
   "outputs": [
    {
     "name": "stderr",
     "output_type": "stream",
     "text": [
      "100%|██████████| 851/851 [00:38<00:00, 22.23it/s]\n"
     ]
    }
   ],
   "source": [
    "from tqdm import tqdm\n",
    "from sklearn.neighbors import KDTree\n",
    "from matplotlib.ticker import MultipleLocator, FormatStrFormatter\n",
    "\n",
    "# import int_coord\n",
    "int_coord= np.loadtxt(\"int_coord.txt\")\n",
    "\n",
    "#save int_coord\n",
    "#np.savetxt(\"int_coord.txt\", int_coord)\n",
    "\n",
    "\n",
    "kdt = KDTree(int_coord, leaf_size=2, metric='euclidean') # int_coord\n",
    "distances, indices = kdt.query(int_coord, k=len(int_coord))\n",
    "\n",
    "# init\n",
    "sort_coor = np.zeros([indices.shape[0],indices.shape[1],3])\n",
    "diff_vec = np.zeros([indices.shape[0],indices.shape[1],3])\n",
    "\n",
    "for z in range(distances.shape[0]) :\n",
    "    for s in range(distances.shape[1]):\n",
    "        #sorted coords\n",
    "        sort_coor[z,s] = int_coord[indices[z,s]]\n",
    "        diff_vec[z,s] = sort_coor[z,0] - sort_coor[z,s]\n",
    "        \n",
    "ang = list()\n",
    "for i in tqdm(range(len(diff_vec[0]))):\n",
    "    for j in range(len(diff_vec[0])):\n",
    "        angt = angle_between(diff_vec[0,i],diff_vec[0,j])\n",
    "        if not angt == 0:\n",
    "            ang.append(angt)\n",
    "\n",
    "#save ang\n",
    "np.savetxt(\"ang.txt\", ang)\n",
    "\n",
    "fig, ax = plt.subplots(figsize=(20,10))\n",
    "plt.hist(ang,bins=200, facecolor='k')\n",
    "plt.show()"
   ]
  },
  {
   "cell_type": "code",
   "execution_count": 22,
   "metadata": {},
   "outputs": [],
   "source": [
    "plt.plot(distances[0], 'ro')\n",
    "plt.axis([0, 20, 0, 2])\n",
    "plt.show()"
   ]
  },
  {
   "cell_type": "code",
   "execution_count": 5,
   "metadata": {},
   "outputs": [
    {
     "data": {
      "text/plain": [
       "(851, 851, 3)"
      ]
     },
     "execution_count": 5,
     "metadata": {},
     "output_type": "execute_result"
    }
   ],
   "source": [
    "diff_vec.shape"
   ]
  },
  {
   "cell_type": "markdown",
   "metadata": {},
   "source": [
    "# Angle between smallest vectors"
   ]
  },
  {
   "cell_type": "code",
   "execution_count": 3,
   "metadata": {},
   "outputs": [
    {
     "name": "stderr",
     "output_type": "stream",
     "text": [
      "100%|██████████| 2394/2394 [04:56<00:00,  8.07it/s]\n"
     ]
    }
   ],
   "source": [
    "from tqdm import tqdm\n",
    "from sklearn.neighbors import KDTree\n",
    "from matplotlib.ticker import MultipleLocator, FormatStrFormatter\n",
    "\n",
    "kdt = KDTree(int_coord, leaf_size=2, metric='euclidean') # int_coord\n",
    "distances, indices = kdt.query(int_coord, k=len(int_coord))\n",
    "\n",
    "\n",
    "######################### Threshhold ######################\n",
    "lenthresh = 0.4\n",
    "distmask = distances < lenthresh # \n",
    "\n",
    "\n",
    "\n",
    "# init\n",
    "sort_coor = np.zeros([indices.shape[0],indices.shape[1],3])\n",
    "diff_vec = np.zeros([indices.shape[0],indices.shape[1],3])\n",
    "\n",
    "for z in range(distances.shape[0]) :\n",
    "    for s in range(distances.shape[1]):\n",
    "        #sorted coords\n",
    "        sort_coor[z,s] = int_coord[indices[z,s]]\n",
    "        diff_vec[z,s] = sort_coor[z,0] - sort_coor[z,s]\n",
    "\n",
    "smvec = diff_vec[distmask]\n",
    "smmask = np.linalg.norm(smvec, axis=1) == 0\n",
    "smvec = smvec[~smmask]\n",
    "\n",
    "ang = list()\n",
    "for i in tqdm(range(len(smvec))):\n",
    "    for j in range(len(smvec)):\n",
    "        angt = angle_between(smvec[i],smvec[j])\n",
    "        if not angt ==0:\n",
    "            ang.append(angt)\n",
    "\n",
    "            \n",
    "\n",
    "        \n",
    "            \n",
    "            \n",
    "            \n",
    "        \n",
    "            "
   ]
  },
  {
   "cell_type": "code",
   "execution_count": 12,
   "metadata": {},
   "outputs": [],
   "source": [
    "#save ang\n",
    "np.savetxt(\"ang.txt\", ang)"
   ]
  },
  {
   "cell_type": "code",
   "execution_count": 5,
   "metadata": {},
   "outputs": [],
   "source": [
    "fig, ax = plt.subplots(figsize=(20,10))\n",
    "plt.hist(ang,bins=200, facecolor='k')\n",
    "plt.show()"
   ]
  },
  {
   "cell_type": "markdown",
   "metadata": {},
   "source": [
    "# Linear Combination of Basis Vectors"
   ]
  },
  {
   "cell_type": "code",
   "execution_count": 79,
   "metadata": {},
   "outputs": [],
   "source": [
    "looplen = 3\n",
    "blinear = []\n",
    "for i in range(-looplen,looplen+1):\n",
    "    if i not in [0]:\n",
    "        for j in range(-looplen,looplen+1):\n",
    "            if j not in [0]:\n",
    "                for k in range(-looplen,looplen+1):\n",
    "                    if k not in [0]:\n",
    "                        blineari = i*basis1 + j*basis2 + k*basis3\n",
    "                        blinear.append(blineari)\n",
    "blinear = np.array(blinear)\n"
   ]
  },
  {
   "cell_type": "code",
   "execution_count": 8,
   "metadata": {},
   "outputs": [
    {
     "data": {
      "text/plain": [
       "array([[ 0.02640261, -0.02752178, -0.25472332],\n",
       "       [-0.41752288, -0.16111009,  7.02639051],\n",
       "       [-0.41752288, -0.16111009,  7.02639051],\n",
       "       ...,\n",
       "       [ 0.41537489,  4.20545319, -7.91401719],\n",
       "       [ 0.47032811,  0.10606653, -7.53583715],\n",
       "       [ 0.47032811,  0.10606653, -7.53583715]])"
      ]
     },
     "execution_count": 8,
     "metadata": {},
     "output_type": "execute_result"
    }
   ],
   "source": [
    "int_coord"
   ]
  },
  {
   "cell_type": "code",
   "execution_count": 82,
   "metadata": {},
   "outputs": [],
   "source": [
    "b1len = np.linalg.norm(basis1)\n",
    "b2len = np.linalg.norm(basis2)\n",
    "b3len = np.linalg.norm(basis3)\n",
    "blinearlen = np.linalg.norm(blinear,axis=1)\n",
    "#blinmask = ((blinearlen == blinearlen.min()) & (blinearlen != 0))\n",
    "#blinear[blinmask]"
   ]
  },
  {
   "cell_type": "code",
   "execution_count": 31,
   "metadata": {},
   "outputs": [
    {
     "data": {
      "text/plain": [
       "1.31745258366256"
      ]
     },
     "execution_count": 31,
     "metadata": {},
     "output_type": "execute_result"
    }
   ],
   "source": [
    "blinearlen == np.sort(blinearlen)[2]\n",
    "b1shortest = [-0.1680066 , -0.21860188,  0.15164803]\n",
    "blinmask = (blinearlen == np.sort(blinearlen)[2]) \n",
    "b2shortest = blinear[blinmask][0]\n",
    "angle_between(b1shortest,b2shortest)\n"
   ]
  },
  {
   "cell_type": "code",
   "execution_count": null,
   "metadata": {},
   "outputs": [],
   "source": []
  },
  {
   "cell_type": "markdown",
   "metadata": {},
   "source": [
    "# get histogram nearest neighbors of KNBO from the literature"
   ]
  },
  {
   "cell_type": "code",
   "execution_count": 10,
   "metadata": {},
   "outputs": [],
   "source": [
    "import itertools\n",
    "\n",
    "permi = np.array(list(itertools.product(range(9),repeat = 3)))\n",
    "lit_b1 = np.array([1/2.75,0,0])\n",
    "lit_b2 = np.array([0,1/2.75,0])\n",
    "lit_b3 = np.array([0,0,1/0.394])\n",
    "lit_points = permi *lit_b1 + permi*lit_b2 + permi * lit_b3 \n"
   ]
  },
  {
   "cell_type": "code",
   "execution_count": 11,
   "metadata": {},
   "outputs": [],
   "source": [
    "#find the nearest neighbor and its distance\n",
    "kdt_lit = KDTree(lit_points, leaf_size=2, metric='euclidean')\n",
    "distances_lit, indices_lit = kdt_lit.query(lit_points, k=100)\n",
    "\n",
    "# delete the nearest neighbor distance to itself\n",
    "distances_lit = distances_lit.T[1:].T\n",
    "\n",
    "fig = plt.figure(figsize=(10,10))\n",
    "plt.hist(distances_lit.ravel(),bins = 500, color = \"r\")\n",
    "plt.hist(distances.ravel(), bins = 500, color = \"b\")\n",
    "plt.show()"
   ]
  },
  {
   "cell_type": "code",
   "execution_count": 168,
   "metadata": {},
   "outputs": [
    {
     "data": {
      "text/plain": [
       "2.5380710659898478"
      ]
     },
     "execution_count": 168,
     "metadata": {},
     "output_type": "execute_result"
    }
   ],
   "source": [
    "1/0.394"
   ]
  },
  {
   "cell_type": "code",
   "execution_count": 24,
   "metadata": {},
   "outputs": [
    {
     "data": {
      "text/plain": [
       "Text(0.5,0,'kz [1/nm]')"
      ]
     },
     "execution_count": 24,
     "metadata": {},
     "output_type": "execute_result"
    }
   ],
   "source": [
    "fig = plt.figure()\n",
    "# create the first axis\n",
    "ax = fig.add_subplot(111, projection='3d')\n",
    "# plot the points\n",
    "bg3d = ax.scatter(lit_points.T[0], lit_points.T[1], lit_points.T[2] , c='k' )\n",
    "# get the axes-limits to cut the plane afterwards\n",
    "ax.set_xlabel(\"kx [1/nm]\")\n",
    "ax.set_ylabel(\"ky [1/nm]\")\n",
    "ax.set_zlabel(\"kz [1/nm]\")"
   ]
  },
  {
   "cell_type": "code",
   "execution_count": 35,
   "metadata": {},
   "outputs": [],
   "source": [
    "plt.rc('text', usetex=True)\n",
    "plt.rc('font', family='serif')\n",
    "\n",
    "cubesize = 6\n",
    "vectors = [b1shortest,b2shortest, b2shortest]\n",
    "origin = origin\n",
    "\n",
    "# create the figure for plotting\n",
    "fig = plt.figure()\n",
    "# create the first axis\n",
    "ax = fig.add_subplot(111, projection='3d')\n",
    "# plot the points\n",
    "bg3d = ax.scatter(int_coord[:, 0], int_coord[:, 1], int_coord[:, 2], c='k' )\n",
    "# get the axes-limits to cut the plane afterwards\n",
    "x_lim = ax.get_xlim()\n",
    "y_lim = ax.get_ylim()\n",
    "z_lim = ax.get_zlim()\n",
    "\n",
    "ax.set_xlabel(\"kz [1/nm]\")\n",
    "ax.set_ylabel(\"kx [1/nm]\")\n",
    "ax.set_zlabel(\"ky [1/nm]\")\n",
    "\n",
    "# set 30 steps for the plane in x and y direction\n",
    "x_stp = (x_lim[1] - x_lim[0])/30\n",
    "y_stp = (y_lim[1] - y_lim[0])/30\n",
    "# generate the mesh for plotting the plane\n",
    "xx, yy = np.meshgrid(np.arange(x_lim[0], x_lim[1], x_stp),\n",
    "                     np.arange(y_lim[0], y_lim[1], y_stp))\n",
    "# get the normal vector of the plane\n",
    "for normal, dist in planes:\n",
    "    # calculate the z-elevation of the planes\n",
    "    zz = (-normal[0]*xx - normal[1]*yy + dist)/normal[2]\n",
    "\n",
    "    ax.plot_surface(xx, yy, zz, color='b', alpha=0.1) # color=(1, 0, 0, 0.3)\n",
    "\n",
    "ax.set_xlim([-cubesize/10, cubesize/10])\n",
    "ax.set_ylim([-cubesize, cubesize])\n",
    "ax.set_zlim([-cubesize, cubesize])\n",
    "# plot vectors\n",
    "if vectors is not None:\n",
    "    X = [origin[0], origin[0], origin[0]]\n",
    "    Y = [origin[1], origin[1], origin[1]]\n",
    "    Z = [origin[2], origin[2], origin[2]]\n",
    "    U = [vectors[0][0], vectors[1][0], vectors[2][0]]\n",
    "    V = [vectors[0][1], vectors[1][1], vectors[2][1]]\n",
    "    W = [vectors[0][2], vectors[1][2], vectors[2][2]]\n",
    "    ax.quiver(X, Y, Z, U, V, W)\n",
    "# show the plot\n",
    "plt.show()"
   ]
  },
  {
   "cell_type": "code",
   "execution_count": 83,
   "metadata": {},
   "outputs": [
    {
     "ename": "TypeError",
     "evalue": "'numpy.ndarray' object is not callable",
     "output_type": "error",
     "traceback": [
      "\u001b[0;31m---------------------------------------------------------------------------\u001b[0m",
      "\u001b[0;31mTypeError\u001b[0m                                 Traceback (most recent call last)",
      "\u001b[0;32m<ipython-input-83-f5bd4addd3d9>\u001b[0m in \u001b[0;36m<module>\u001b[0;34m()\u001b[0m\n\u001b[1;32m      1\u001b[0m \u001b[0mb1\u001b[0m\u001b[0;34m,\u001b[0m \u001b[0mb2\u001b[0m\u001b[0;34m,\u001b[0m \u001b[0mb3\u001b[0m\u001b[0;34m,\u001b[0m \u001b[0morigin\u001b[0m \u001b[0;34m=\u001b[0m \u001b[0mnormal_basis\u001b[0m\u001b[0;34m(\u001b[0m\u001b[0mplanes\u001b[0m\u001b[0;34m[\u001b[0m\u001b[0mp1\u001b[0m\u001b[0;34m]\u001b[0m\u001b[0;34m,\u001b[0m \u001b[0mplanes\u001b[0m\u001b[0;34m[\u001b[0m\u001b[0mp2\u001b[0m\u001b[0;34m]\u001b[0m\u001b[0;34m,\u001b[0m \u001b[0mplanes\u001b[0m\u001b[0;34m[\u001b[0m\u001b[0mp3\u001b[0m\u001b[0;34m]\u001b[0m\u001b[0;34m)\u001b[0m\u001b[0;34m;\u001b[0m\u001b[0;34m\u001b[0m\u001b[0m\n\u001b[0;32m----> 2\u001b[0;31m \u001b[0mscale\u001b[0m \u001b[0;34m=\u001b[0m \u001b[0mget_basis_lengths\u001b[0m\u001b[0;34m(\u001b[0m\u001b[0mcoord\u001b[0m\u001b[0;34m,\u001b[0m \u001b[0mb1\u001b[0m\u001b[0;34m,\u001b[0m \u001b[0mb2\u001b[0m\u001b[0;34m,\u001b[0m \u001b[0mb3\u001b[0m\u001b[0;34m,\u001b[0m \u001b[0morigin\u001b[0m\u001b[0;34m)\u001b[0m\u001b[0;34m;\u001b[0m\u001b[0;34m\u001b[0m\u001b[0m\n\u001b[0m\u001b[1;32m      3\u001b[0m \u001b[0;34m\u001b[0m\u001b[0m\n\u001b[1;32m      4\u001b[0m \u001b[0;31m# rescale the basis\u001b[0m\u001b[0;34m\u001b[0m\u001b[0;34m\u001b[0m\u001b[0m\n\u001b[1;32m      5\u001b[0m \u001b[0mbasis1\u001b[0m \u001b[0;34m=\u001b[0m \u001b[0mscale\u001b[0m\u001b[0;34m[\u001b[0m\u001b[0;36m0\u001b[0m\u001b[0;34m]\u001b[0m\u001b[0;34m*\u001b[0m\u001b[0mb1\u001b[0m\u001b[0;34m\u001b[0m\u001b[0m\n",
      "\u001b[0;32m<ipython-input-1-ab8ae02ec6ce>\u001b[0m in \u001b[0;36mget_basis_lengths\u001b[0;34m(coord, b1, b2, b3, ori)\u001b[0m\n\u001b[1;32m    369\u001b[0m     '''\n\u001b[1;32m    370\u001b[0m     \u001b[0;31m# get the distances within the coords\u001b[0m\u001b[0;34m\u001b[0m\u001b[0;34m\u001b[0m\u001b[0m\n\u001b[0;32m--> 371\u001b[0;31m     \u001b[0mdist_coord\u001b[0m \u001b[0;34m=\u001b[0m \u001b[0mdistances\u001b[0m\u001b[0;34m(\u001b[0m\u001b[0mcoord\u001b[0m\u001b[0;34m)\u001b[0m\u001b[0;34m\u001b[0m\u001b[0m\n\u001b[0m\u001b[1;32m    372\u001b[0m     \u001b[0;31m# use the histogram to find the minimum distance between the points\u001b[0m\u001b[0;34m\u001b[0m\u001b[0;34m\u001b[0m\u001b[0m\n\u001b[1;32m    373\u001b[0m     \u001b[0mmin_dist\u001b[0m \u001b[0;34m=\u001b[0m \u001b[0mfirst_val\u001b[0m\u001b[0;34m(\u001b[0m\u001b[0;34m*\u001b[0m\u001b[0mnp\u001b[0m\u001b[0;34m.\u001b[0m\u001b[0mhistogram\u001b[0m\u001b[0;34m(\u001b[0m\u001b[0mdist_coord\u001b[0m\u001b[0;34m,\u001b[0m \u001b[0mbins\u001b[0m\u001b[0;34m=\u001b[0m\u001b[0mcoord\u001b[0m\u001b[0;34m.\u001b[0m\u001b[0mshape\u001b[0m\u001b[0;34m[\u001b[0m\u001b[0;36m0\u001b[0m\u001b[0;34m]\u001b[0m\u001b[0;34m)\u001b[0m\u001b[0;34m,\u001b[0m \u001b[0mbound\u001b[0m \u001b[0;34m=\u001b[0m  \u001b[0mbounds\u001b[0m\u001b[0;34m)\u001b[0m\u001b[0;34m/\u001b[0m\u001b[0;36m2\u001b[0m\u001b[0;34m\u001b[0m\u001b[0m\n",
      "\u001b[0;31mTypeError\u001b[0m: 'numpy.ndarray' object is not callable"
     ]
    }
   ],
   "source": [
    "b1, b2, b3, origin = normal_basis(planes[p1], planes[p2], planes[p3]);\n",
    "scale = get_basis_lengths(coord, b1, b2, b3, origin);\n",
    "\n",
    "# rescale the basis\n",
    "basis1 = scale[0]*b1\n",
    "basis2 = scale[1]*b2\n",
    "basis3 = scale[2]*b3\n",
    "\n",
    "# planes for the shortes sum of basis vectors\n",
    "#p1, p2, p3 = combi[sumbasvec == np.min(sumbasvec)][0] # get plane combination with minimal sum of basis vecotrs\n",
    "\n",
    "\n",
    "# plot the planes and basis-vectors\n",
    "\n",
    "plot_planes(coord, [planes[p1], planes[p2], planes[p3]],\n",
    "            vectors=[basis1, basis2, basis3],\n",
    "            origin=origin)\n",
    "# plot the coordinates in the integer grid\n",
    "int_coord = np.empty_like(coord)\n",
    "\n",
    "\n",
    "# get the new coordinates for the new basis\n",
    "new_coor = new_coord(coord, basis1, basis2, basis3, origin)\n",
    "\n",
    "# round new coordinates to integer values\n",
    "new_coor = np.array(np.rint(new_coor), dtype=int)\n",
    "\n",
    "for i in range(3):\n",
    "    int_coord[:, i] = (new_coor[:, 0]*basis1[i] +\n",
    "                       new_coor[:, 1]*basis2[i] +\n",
    "                       new_coor[:, 2]*basis3[i] +\n",
    "                       origin[i])\n",
    "\n",
    "# basis angles\n",
    "alpha1 = angle_between(basis1, basis2)\n",
    "alpha2 = angle_between(basis1, basis3)\n",
    "alpha3 = angle_between(basis2, basis3)\n",
    "\n",
    "\n",
    "\n",
    "\n",
    "# save all results\n",
    "np.savetxt(\"basis1.txt\", basis1)\n",
    "np.savetxt(\"basis2.txt\", basis2)\n",
    "np.savetxt(\"basis3.txt\", basis3)\n",
    "np.savetxt(\"origin.txt\", origin)\n",
    "np.savetxt(\"new_coord.txt\", new_coor, fmt=\"%d\")\n",
    "\n",
    "plot_planes(int_coord, [planes[p1], planes[p2], planes[p3]],\n",
    "            vectors=[basis1, basis2, basis3],\n",
    "            origin=origin)\n"
   ]
  },
  {
   "cell_type": "code",
   "execution_count": null,
   "metadata": {},
   "outputs": [],
   "source": []
  }
 ],
 "metadata": {
  "kernelspec": {
   "display_name": "Python 3",
   "language": "python",
   "name": "python3"
  },
  "language_info": {
   "codemirror_mode": {
    "name": "ipython",
    "version": 3
   },
   "file_extension": ".py",
   "mimetype": "text/x-python",
   "name": "python",
   "nbconvert_exporter": "python",
   "pygments_lexer": "ipython3",
   "version": "3.6.3"
  }
 },
 "nbformat": 4,
 "nbformat_minor": 2
}
